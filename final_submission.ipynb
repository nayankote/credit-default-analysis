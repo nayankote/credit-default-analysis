{
  "nbformat": 4,
  "nbformat_minor": 0,
  "metadata": {
    "kernelspec": {
      "display_name": "Python 3",
      "language": "python",
      "name": "python3"
    },
    "language_info": {
      "codemirror_mode": {
        "name": "ipython",
        "version": 3
      },
      "file_extension": ".py",
      "mimetype": "text/x-python",
      "name": "python",
      "nbconvert_exporter": "python",
      "pygments_lexer": "ipython3",
      "version": "3.7.1"
    },
    "colab": {
      "name": "final.ipynb",
      "provenance": [],
      "collapsed_sections": []
    }
  },
  "cells": [
    {
      "cell_type": "code",
      "metadata": {
        "colab": {
          "base_uri": "https://localhost:8080/"
        },
        "id": "ta_iTUoLUtOR",
        "outputId": "d5516fcf-5544-4401-ab69-e78f402e4a74"
      },
      "source": [
        "!python -m pip install xgboost --user --upgrade pip\n",
        "!pip install lightgbm"
      ],
      "execution_count": null,
      "outputs": [
        {
          "output_type": "stream",
          "text": [
            "Collecting xgboost\n",
            "\u001b[?25l  Downloading https://files.pythonhosted.org/packages/05/45/978cd7e30860a5e2852500d55b7598d8f0806927ff30c86d01d01b28c43b/xgboost-1.4.0-py3-none-manylinux2010_x86_64.whl (166.7MB)\n",
            "\u001b[K     |████████████████████████████████| 166.7MB 78kB/s \n",
            "\u001b[?25hCollecting pip\n",
            "\u001b[?25l  Downloading https://files.pythonhosted.org/packages/fe/ef/60d7ba03b5c442309ef42e7d69959f73aacccd0d86008362a681c4698e83/pip-21.0.1-py3-none-any.whl (1.5MB)\n",
            "\u001b[K     |████████████████████████████████| 1.5MB 17.1MB/s \n",
            "\u001b[?25hRequirement already satisfied, skipping upgrade: scipy in /usr/local/lib/python3.7/dist-packages (from xgboost) (1.4.1)\n",
            "Requirement already satisfied, skipping upgrade: numpy in /usr/local/lib/python3.7/dist-packages (from xgboost) (1.19.5)\n",
            "Installing collected packages: xgboost, pip\n",
            "\u001b[33m  WARNING: The scripts pip, pip3 and pip3.7 are installed in '/root/.local/bin' which is not on PATH.\n",
            "  Consider adding this directory to PATH or, if you prefer to suppress this warning, use --no-warn-script-location.\u001b[0m\n",
            "Successfully installed pip-21.0.1 xgboost-1.4.0\n",
            "WARNING: pip is being invoked by an old script wrapper. This will fail in a future version of pip.\n",
            "Please see https://github.com/pypa/pip/issues/5599 for advice on fixing the underlying issue.\n",
            "To avoid this problem you can invoke Python with '-m pip' instead of running pip directly.\n",
            "Requirement already satisfied: lightgbm in /usr/local/lib/python3.7/dist-packages (2.2.3)\n",
            "Requirement already satisfied: numpy in /usr/local/lib/python3.7/dist-packages (from lightgbm) (1.19.5)\n",
            "Requirement already satisfied: scikit-learn in /usr/local/lib/python3.7/dist-packages (from lightgbm) (0.22.2.post1)\n",
            "Requirement already satisfied: scipy in /usr/local/lib/python3.7/dist-packages (from lightgbm) (1.4.1)\n",
            "Requirement already satisfied: joblib>=0.11 in /usr/local/lib/python3.7/dist-packages (from scikit-learn->lightgbm) (1.0.1)\n"
          ],
          "name": "stdout"
        }
      ]
    },
    {
      "cell_type": "code",
      "metadata": {
        "id": "J5EaSSHjOTC8"
      },
      "source": [
        "import pandas as pd\n",
        "import numpy as np\n",
        "import matplotlib.pyplot as plt\n",
        "import warnings\n",
        "warnings.filterwarnings('ignore')\n",
        "from sklearn.tree import DecisionTreeClassifier\n",
        "from sklearn.ensemble import GradientBoostingClassifier, RandomForestClassifier\n",
        "from sklearn.mixture import GaussianMixture\n",
        "from sklearn.model_selection import train_test_split, RandomizedSearchCV, StratifiedKFold, GridSearchCV, cross_val_score\n",
        "from sklearn.metrics import roc_auc_score\n",
        "from sklearn.preprocessing import PolynomialFeatures, StandardScaler\n",
        "import time\n",
        "from itertools import combinations\n",
        "import xgboost\n",
        "import lightgbm as lgb\n",
        "from imblearn.over_sampling import SMOTE, ADASYN, BorderlineSMOTE, SVMSMOTE\n",
        "from imblearn import combine"
      ],
      "execution_count": 1,
      "outputs": []
    },
    {
      "cell_type": "code",
      "metadata": {
        "colab": {
          "base_uri": "https://localhost:8080/"
        },
        "id": "tW-2TszxPV6L",
        "outputId": "a9ea2355-7a9a-41df-ef5c-8b23350eec8a"
      },
      "source": [
        "from google.colab import drive\n",
        "drive.mount('/content/drive')"
      ],
      "execution_count": 2,
      "outputs": [
        {
          "output_type": "stream",
          "text": [
            "Mounted at /content/drive\n"
          ],
          "name": "stdout"
        }
      ]
    },
    {
      "cell_type": "code",
      "metadata": {
        "colab": {
          "base_uri": "https://localhost:8080/",
          "height": 248
        },
        "id": "nQf6OkBtOTDI",
        "outputId": "c57235c1-66a0-4c48-98fb-79faa64f97ce"
      },
      "source": [
        "train_data = pd.read_csv(\"/content/drive/MyDrive/univ.ai/Training Data.csv\")\n",
        "test_data = pd.read_csv(\"/content/drive/MyDrive/univ.ai/Test Data.csv\")\n",
        "train_data.head()\n",
        "\n",
        "for column in [\"profession\",\"city\",\"state\"]:\n",
        "    test_data[column] = test_data[column].apply(lambda x : \"_\".join(x.strip().split(\" \")))\n",
        "test_data.head()\n",
        "\n",
        "woe_state = pd.DataFrame(train_data.groupby('state')['risk_flag'].mean())\n",
        "woe_state['woe_state'] = np.log(woe_state['risk_flag']/(1-woe_state['risk_flag']))\n",
        "train_data['woe_state'] = train_data['state'].map(woe_state['woe_state'])\n",
        "test_data['woe_state'] = test_data['state'].map(woe_state['woe_state'])\n",
        "\n",
        "woe_profession = pd.DataFrame(train_data.groupby('profession')['risk_flag'].mean())\n",
        "woe_profession['woe_profession'] = np.log(woe_profession['risk_flag']/(1-woe_profession['risk_flag']))\n",
        "train_data['woe_profession'] = train_data['profession'].map(woe_profession['woe_profession'])\n",
        "test_data['woe_profession'] = test_data['profession'].map(woe_profession['woe_profession'])\n",
        "\n",
        "woe_city = pd.DataFrame(train_data.groupby('city')['risk_flag'].mean())\n",
        "woe_city['woe_city'] = np.log(woe_city['risk_flag']/(1-woe_city['risk_flag']))\n",
        "train_data['woe_city'] = train_data['city'].map(woe_city['woe_city'])\n",
        "test_data['woe_city'] = test_data['city'].map(woe_city['woe_city'])\n",
        "\"\"\"\n",
        "woe_car = pd.DataFrame(train_data.groupby('car_ownership')['risk_flag'].mean())\n",
        "woe_car['woe_car'] = np.log(woe_car['risk_flag']/(1-woe_car['risk_flag']))\n",
        "train_data['woe_car'] = train_data['car_ownership'].map(woe_car['woe_car'])\n",
        "test_data['woe_car'] = test_data['car_ownership'].map(woe_car['woe_car'])\n",
        "\n",
        "woe_married = pd.DataFrame(train_data.groupby('married')['risk_flag'].mean())\n",
        "woe_married['woe_married'] = np.log(woe_married['risk_flag']/(1-woe_married['risk_flag']))\n",
        "train_data['woe_married'] = train_data['married'].map(woe_married['woe_married'])\n",
        "test_data['woe_married'] = test_data['married'].map(woe_married['woe_married'])\n",
        "\n",
        "woe_house = pd.DataFrame(train_data.groupby('house_ownership')['risk_flag'].mean())\n",
        "woe_house['woe_house'] = np.log(woe_house['risk_flag']/(1-woe_house['risk_flag']))\n",
        "train_data['woe_house'] = train_data['house_ownership'].map(woe_house['woe_house'])\n",
        "test_data['woe_house'] = test_data['house_ownership'].map(woe_house['woe_house'])\n",
        "\"\"\"\n",
        "train_data['car_ownership'] = train_data['car_ownership'].apply(lambda x : 0 if x=='yes' else 1)\n",
        "test_data['car_ownership'] = test_data['car_ownership'].apply(lambda x : 0 if x=='yes' else 1)\n",
        "\n",
        "train_data['married'] = train_data['married'].apply(lambda x : 0 if x=='married' else 1)\n",
        "test_data['married'] = test_data['married'].apply(lambda x : 0 if x=='married' else 1)\n",
        "\n",
        "def house(x):\n",
        "    if x == 'owned' : return 0 \n",
        "    elif x == \"norent_noown\" : return 1\n",
        "    else : return 2\n",
        "\n",
        "train_data['house_ownership'] = train_data['house_ownership'].apply(lambda x : house(x))\n",
        "test_data['house_ownership'] = test_data['house_ownership'].apply(lambda x : house(x))\n",
        "\n",
        "train_data['income_by_city'] = train_data['income']/train_data['woe_city']\n",
        "test_data['income_by_city'] = test_data['income']/test_data['woe_city']\n",
        "\n",
        "train_data['job_stability'] = train_data['experience']/train_data['current_job_years']\n",
        "test_data['job_stability'] = test_data['experience']/test_data['current_job_years']\n",
        "\"\"\"\n",
        "#train_data.drop(['experience','current_job_years'],axis=1,inplace=True)\n",
        "#test_data.drop(['experience','current_job_years'],axis=1,inplace=True)\n",
        "\"\"\"\n",
        "train_data['woe_location'] = train_data['woe_state']+train_data['woe_city']\n",
        "test_data['woe_location'] = test_data['woe_state']+test_data['woe_city']\n",
        "#train_data.drop(['woe_state','woe_city'],axis=1,inplace=True)\n",
        "#test_data.drop(['woe_state','woe_city'],axis=1,inplace=True)\n",
        "\n",
        "train_data.drop(['profession','city','state'],axis=1,inplace=True)\n",
        "test_data.drop(['profession','city','state'],axis=1,inplace=True)\n",
        "\n",
        "train_data.set_index('Id',inplace=True)\n",
        "test_data.set_index('id',inplace=True)\n",
        "\n",
        "xtrain=train_data.drop(\"risk_flag\",axis=1)\n",
        "ytrain=train_data[\"risk_flag\"]\n",
        "public_test = test_data.copy()\n",
        "\n",
        "# train_data.head()\n",
        "\n",
        "scaler = StandardScaler()\n",
        "for column in xtrain.columns:\n",
        "    xtrain[column] = scaler.fit_transform(xtrain[column].to_numpy().reshape(-1,1))\n",
        "    public_test[column] = scaler.transform(public_test[column].to_numpy().reshape(-1,1))\n",
        "\n",
        "X_trainval, X_holdouttest, y_trainval, y_holdouttest = train_test_split(xtrain, ytrain, stratify=ytrain.values, test_size=0.05)\n",
        "\n",
        "xtrain.head()"
      ],
      "execution_count": 3,
      "outputs": [
        {
          "output_type": "execute_result",
          "data": {
            "text/html": [
              "<div>\n",
              "<style scoped>\n",
              "    .dataframe tbody tr th:only-of-type {\n",
              "        vertical-align: middle;\n",
              "    }\n",
              "\n",
              "    .dataframe tbody tr th {\n",
              "        vertical-align: top;\n",
              "    }\n",
              "\n",
              "    .dataframe thead th {\n",
              "        text-align: right;\n",
              "    }\n",
              "</style>\n",
              "<table border=\"1\" class=\"dataframe\">\n",
              "  <thead>\n",
              "    <tr style=\"text-align: right;\">\n",
              "      <th></th>\n",
              "      <th>income</th>\n",
              "      <th>age</th>\n",
              "      <th>experience</th>\n",
              "      <th>married</th>\n",
              "      <th>house_ownership</th>\n",
              "      <th>car_ownership</th>\n",
              "      <th>current_job_years</th>\n",
              "      <th>current_house_years</th>\n",
              "      <th>woe_state</th>\n",
              "      <th>woe_profession</th>\n",
              "      <th>woe_city</th>\n",
              "      <th>income_by_city</th>\n",
              "      <th>job_stability</th>\n",
              "      <th>woe_location</th>\n",
              "    </tr>\n",
              "    <tr>\n",
              "      <th>Id</th>\n",
              "      <th></th>\n",
              "      <th></th>\n",
              "      <th></th>\n",
              "      <th></th>\n",
              "      <th></th>\n",
              "      <th></th>\n",
              "      <th></th>\n",
              "      <th></th>\n",
              "      <th></th>\n",
              "      <th></th>\n",
              "      <th></th>\n",
              "      <th></th>\n",
              "      <th></th>\n",
              "      <th></th>\n",
              "    </tr>\n",
              "  </thead>\n",
              "  <tbody>\n",
              "    <tr>\n",
              "      <th>1</th>\n",
              "      <td>-1.283145</td>\n",
              "      <td>-1.579603</td>\n",
              "      <td>-1.180232</td>\n",
              "      <td>0.337200</td>\n",
              "      <td>0.281684</td>\n",
              "      <td>0.657129</td>\n",
              "      <td>-0.914131</td>\n",
              "      <td>0.716356</td>\n",
              "      <td>1.645552</td>\n",
              "      <td>-0.664572</td>\n",
              "      <td>0.138228</td>\n",
              "      <td>1.154686</td>\n",
              "      <td>-0.652134</td>\n",
              "      <td>0.612707</td>\n",
              "    </tr>\n",
              "    <tr>\n",
              "      <th>2</th>\n",
              "      <td>0.895457</td>\n",
              "      <td>-0.583343</td>\n",
              "      <td>-0.014067</td>\n",
              "      <td>0.337200</td>\n",
              "      <td>0.281684</td>\n",
              "      <td>0.657129</td>\n",
              "      <td>0.731036</td>\n",
              "      <td>0.716356</td>\n",
              "      <td>-0.500791</td>\n",
              "      <td>1.475106</td>\n",
              "      <td>0.156994</td>\n",
              "      <td>-0.751646</td>\n",
              "      <td>-0.554145</td>\n",
              "      <td>-0.017533</td>\n",
              "    </tr>\n",
              "    <tr>\n",
              "      <th>3</th>\n",
              "      <td>-0.349269</td>\n",
              "      <td>0.940347</td>\n",
              "      <td>-1.013637</td>\n",
              "      <td>-2.965599</td>\n",
              "      <td>0.281684</td>\n",
              "      <td>0.657129</td>\n",
              "      <td>-0.639936</td>\n",
              "      <td>-1.427981</td>\n",
              "      <td>2.212779</td>\n",
              "      <td>0.707728</td>\n",
              "      <td>0.317321</td>\n",
              "      <td>0.288362</td>\n",
              "      <td>-0.652134</td>\n",
              "      <td>0.935461</td>\n",
              "    </tr>\n",
              "    <tr>\n",
              "      <th>4</th>\n",
              "      <td>0.437526</td>\n",
              "      <td>-0.524740</td>\n",
              "      <td>-1.346827</td>\n",
              "      <td>0.337200</td>\n",
              "      <td>0.281684</td>\n",
              "      <td>-1.521772</td>\n",
              "      <td>-1.188325</td>\n",
              "      <td>0.001577</td>\n",
              "      <td>1.083532</td>\n",
              "      <td>1.475106</td>\n",
              "      <td>2.807817</td>\n",
              "      <td>-3.608672</td>\n",
              "      <td>-0.652134</td>\n",
              "      <td>2.709050</td>\n",
              "    </tr>\n",
              "    <tr>\n",
              "      <th>5</th>\n",
              "      <td>0.268128</td>\n",
              "      <td>-0.173119</td>\n",
              "      <td>0.152528</td>\n",
              "      <td>0.337200</td>\n",
              "      <td>0.281684</td>\n",
              "      <td>0.657129</td>\n",
              "      <td>-0.914131</td>\n",
              "      <td>1.431135</td>\n",
              "      <td>-1.129591</td>\n",
              "      <td>-0.390227</td>\n",
              "      <td>0.129897</td>\n",
              "      <td>-0.191985</td>\n",
              "      <td>1.699587</td>\n",
              "      <td>-0.229831</td>\n",
              "    </tr>\n",
              "  </tbody>\n",
              "</table>\n",
              "</div>"
            ],
            "text/plain": [
              "      income       age  experience  ...  income_by_city  job_stability  woe_location\n",
              "Id                                  ...                                             \n",
              "1  -1.283145 -1.579603   -1.180232  ...        1.154686      -0.652134      0.612707\n",
              "2   0.895457 -0.583343   -0.014067  ...       -0.751646      -0.554145     -0.017533\n",
              "3  -0.349269  0.940347   -1.013637  ...        0.288362      -0.652134      0.935461\n",
              "4   0.437526 -0.524740   -1.346827  ...       -3.608672      -0.652134      2.709050\n",
              "5   0.268128 -0.173119    0.152528  ...       -0.191985       1.699587     -0.229831\n",
              "\n",
              "[5 rows x 14 columns]"
            ]
          },
          "metadata": {
            "tags": []
          },
          "execution_count": 3
        }
      ]
    },
    {
      "cell_type": "code",
      "metadata": {
        "colab": {
          "base_uri": "https://localhost:8080/"
        },
        "id": "Z7ASNNutYDr-",
        "outputId": "becaedf5-f13e-4cd1-8d4a-6149ef376cb6"
      },
      "source": [
        "num_round = 300\n",
        "lgb_params = {\"objective\":\"binary\", \"metric\":\"auc\", \"scale_pos_weight\":(len(y_trainval)-(sum(y_trainval)))/sum(y_trainval), \"max_depth\":25}\n",
        "train_data = lgb.Dataset(X_trainval, label=y_trainval)\n",
        "lgb_model = lgb.train(lgb_params, train_set = train_data, num_boost_round = num_round) # , valid_sets=[validation_data]\n",
        "for threshold in range(1,10):\n",
        "  y_trainval_preds = (lgb_model.predict(X_trainval) > threshold/10)*1\n",
        "  y_holdouttest_preds = (lgb_model.predict(X_holdouttest) > threshold/10)*1\n",
        "  print(threshold/10,roc_auc_score(y_trainval,y_trainval_preds), roc_auc_score(y_holdouttest,y_holdouttest_preds))"
      ],
      "execution_count": 10,
      "outputs": [
        {
          "output_type": "stream",
          "text": [
            "0.1 0.5069634300846853 0.50569551890235\n",
            "0.2 0.5533997923354639 0.5470398481973435\n",
            "0.3 0.6388075581546271 0.6250109473069625\n",
            "0.4 0.7405672100560341 0.7186498321412933\n",
            "0.5 0.8246544005621318 0.790637863085681\n",
            "0.6 0.8613944790955916 0.8249788352065391\n",
            "0.7 0.8462228779440882 0.8232666763976062\n",
            "0.8 0.7535150047269971 0.7273507517150781\n",
            "0.9 0.5834393901005104 0.5719500802802511\n"
          ],
          "name": "stdout"
        }
      ]
    },
    {
      "cell_type": "code",
      "metadata": {
        "colab": {
          "base_uri": "https://localhost:8080/",
          "height": 378
        },
        "id": "x1zTIrChk8x6",
        "outputId": "f84e882d-2a89-48ee-f648-36de1bf1fc73"
      },
      "source": [
        "xtrain.corr()"
      ],
      "execution_count": null,
      "outputs": [
        {
          "output_type": "execute_result",
          "data": {
            "text/html": [
              "<div>\n",
              "<style scoped>\n",
              "    .dataframe tbody tr th:only-of-type {\n",
              "        vertical-align: middle;\n",
              "    }\n",
              "\n",
              "    .dataframe tbody tr th {\n",
              "        vertical-align: top;\n",
              "    }\n",
              "\n",
              "    .dataframe thead th {\n",
              "        text-align: right;\n",
              "    }\n",
              "</style>\n",
              "<table border=\"1\" class=\"dataframe\">\n",
              "  <thead>\n",
              "    <tr style=\"text-align: right;\">\n",
              "      <th></th>\n",
              "      <th>income</th>\n",
              "      <th>age</th>\n",
              "      <th>experience</th>\n",
              "      <th>married</th>\n",
              "      <th>house_ownership</th>\n",
              "      <th>car_ownership</th>\n",
              "      <th>current_job_years</th>\n",
              "      <th>current_house_years</th>\n",
              "      <th>woe_state</th>\n",
              "      <th>woe_profession</th>\n",
              "      <th>woe_city</th>\n",
              "    </tr>\n",
              "  </thead>\n",
              "  <tbody>\n",
              "    <tr>\n",
              "      <th>income</th>\n",
              "      <td>1.000000</td>\n",
              "      <td>-0.000652</td>\n",
              "      <td>0.006422</td>\n",
              "      <td>0.002682</td>\n",
              "      <td>0.006412</td>\n",
              "      <td>-0.004068</td>\n",
              "      <td>0.007045</td>\n",
              "      <td>-0.002397</td>\n",
              "      <td>0.011910</td>\n",
              "      <td>-0.015738</td>\n",
              "      <td>0.013843</td>\n",
              "    </tr>\n",
              "    <tr>\n",
              "      <th>age</th>\n",
              "      <td>-0.000652</td>\n",
              "      <td>1.000000</td>\n",
              "      <td>-0.001118</td>\n",
              "      <td>-0.005324</td>\n",
              "      <td>-0.017551</td>\n",
              "      <td>-0.009395</td>\n",
              "      <td>0.002154</td>\n",
              "      <td>-0.020134</td>\n",
              "      <td>0.007660</td>\n",
              "      <td>-0.007255</td>\n",
              "      <td>-0.002466</td>\n",
              "    </tr>\n",
              "    <tr>\n",
              "      <th>experience</th>\n",
              "      <td>0.006422</td>\n",
              "      <td>-0.001118</td>\n",
              "      <td>1.000000</td>\n",
              "      <td>-0.001752</td>\n",
              "      <td>-0.013346</td>\n",
              "      <td>-0.007519</td>\n",
              "      <td>0.646098</td>\n",
              "      <td>0.019309</td>\n",
              "      <td>-0.004069</td>\n",
              "      <td>0.007040</td>\n",
              "      <td>-0.020091</td>\n",
              "    </tr>\n",
              "    <tr>\n",
              "      <th>married</th>\n",
              "      <td>0.002682</td>\n",
              "      <td>-0.005324</td>\n",
              "      <td>-0.001752</td>\n",
              "      <td>1.000000</td>\n",
              "      <td>-0.026208</td>\n",
              "      <td>-0.001206</td>\n",
              "      <td>0.004251</td>\n",
              "      <td>-0.007539</td>\n",
              "      <td>0.002430</td>\n",
              "      <td>0.005110</td>\n",
              "      <td>0.001871</td>\n",
              "    </tr>\n",
              "    <tr>\n",
              "      <th>house_ownership</th>\n",
              "      <td>0.006412</td>\n",
              "      <td>-0.017551</td>\n",
              "      <td>-0.013346</td>\n",
              "      <td>-0.026208</td>\n",
              "      <td>1.000000</td>\n",
              "      <td>0.002167</td>\n",
              "      <td>-0.009390</td>\n",
              "      <td>-0.013786</td>\n",
              "      <td>0.015055</td>\n",
              "      <td>-0.009107</td>\n",
              "      <td>0.010390</td>\n",
              "    </tr>\n",
              "    <tr>\n",
              "      <th>car_ownership</th>\n",
              "      <td>-0.004068</td>\n",
              "      <td>-0.009395</td>\n",
              "      <td>-0.007519</td>\n",
              "      <td>-0.001206</td>\n",
              "      <td>0.002167</td>\n",
              "      <td>1.000000</td>\n",
              "      <td>-0.011099</td>\n",
              "      <td>-0.000251</td>\n",
              "      <td>0.000477</td>\n",
              "      <td>0.014963</td>\n",
              "      <td>0.010435</td>\n",
              "    </tr>\n",
              "    <tr>\n",
              "      <th>current_job_years</th>\n",
              "      <td>0.007045</td>\n",
              "      <td>0.002154</td>\n",
              "      <td>0.646098</td>\n",
              "      <td>0.004251</td>\n",
              "      <td>-0.009390</td>\n",
              "      <td>-0.011099</td>\n",
              "      <td>1.000000</td>\n",
              "      <td>0.005372</td>\n",
              "      <td>-0.003203</td>\n",
              "      <td>0.001004</td>\n",
              "      <td>-0.006963</td>\n",
              "    </tr>\n",
              "    <tr>\n",
              "      <th>current_house_years</th>\n",
              "      <td>-0.002397</td>\n",
              "      <td>-0.020134</td>\n",
              "      <td>0.019309</td>\n",
              "      <td>-0.007539</td>\n",
              "      <td>-0.013786</td>\n",
              "      <td>-0.000251</td>\n",
              "      <td>0.005372</td>\n",
              "      <td>1.000000</td>\n",
              "      <td>0.007839</td>\n",
              "      <td>-0.013320</td>\n",
              "      <td>0.019450</td>\n",
              "    </tr>\n",
              "    <tr>\n",
              "      <th>woe_state</th>\n",
              "      <td>0.011910</td>\n",
              "      <td>0.007660</td>\n",
              "      <td>-0.004069</td>\n",
              "      <td>0.002430</td>\n",
              "      <td>0.015055</td>\n",
              "      <td>0.000477</td>\n",
              "      <td>-0.003203</td>\n",
              "      <td>0.007839</td>\n",
              "      <td>1.000000</td>\n",
              "      <td>0.006560</td>\n",
              "      <td>0.370199</td>\n",
              "    </tr>\n",
              "    <tr>\n",
              "      <th>woe_profession</th>\n",
              "      <td>-0.015738</td>\n",
              "      <td>-0.007255</td>\n",
              "      <td>0.007040</td>\n",
              "      <td>0.005110</td>\n",
              "      <td>-0.009107</td>\n",
              "      <td>0.014963</td>\n",
              "      <td>0.001004</td>\n",
              "      <td>-0.013320</td>\n",
              "      <td>0.006560</td>\n",
              "      <td>1.000000</td>\n",
              "      <td>0.026245</td>\n",
              "    </tr>\n",
              "    <tr>\n",
              "      <th>woe_city</th>\n",
              "      <td>0.013843</td>\n",
              "      <td>-0.002466</td>\n",
              "      <td>-0.020091</td>\n",
              "      <td>0.001871</td>\n",
              "      <td>0.010390</td>\n",
              "      <td>0.010435</td>\n",
              "      <td>-0.006963</td>\n",
              "      <td>0.019450</td>\n",
              "      <td>0.370199</td>\n",
              "      <td>0.026245</td>\n",
              "      <td>1.000000</td>\n",
              "    </tr>\n",
              "  </tbody>\n",
              "</table>\n",
              "</div>"
            ],
            "text/plain": [
              "                       income       age  ...  woe_profession  woe_city\n",
              "income               1.000000 -0.000652  ...       -0.015738  0.013843\n",
              "age                 -0.000652  1.000000  ...       -0.007255 -0.002466\n",
              "experience           0.006422 -0.001118  ...        0.007040 -0.020091\n",
              "married              0.002682 -0.005324  ...        0.005110  0.001871\n",
              "house_ownership      0.006412 -0.017551  ...       -0.009107  0.010390\n",
              "car_ownership       -0.004068 -0.009395  ...        0.014963  0.010435\n",
              "current_job_years    0.007045  0.002154  ...        0.001004 -0.006963\n",
              "current_house_years -0.002397 -0.020134  ...       -0.013320  0.019450\n",
              "woe_state            0.011910  0.007660  ...        0.006560  0.370199\n",
              "woe_profession      -0.015738 -0.007255  ...        1.000000  0.026245\n",
              "woe_city             0.013843 -0.002466  ...        0.026245  1.000000\n",
              "\n",
              "[11 rows x 11 columns]"
            ]
          },
          "metadata": {
            "tags": []
          },
          "execution_count": 6
        }
      ]
    },
    {
      "cell_type": "code",
      "metadata": {
        "colab": {
          "base_uri": "https://localhost:8080/"
        },
        "id": "PE1VYihwiBlo",
        "outputId": "ff50de52-57ed-4603-c63a-bab179ac5e26"
      },
      "source": [
        "c = xtrain.corr().abs()\n",
        "s = c.unstack()\n",
        "so = s.sort_values(kind=\"quicksort\")\n",
        "pd.set_option('display.max_rows', 500)\n",
        "print(so[5890:-78])"
      ],
      "execution_count": null,
      "outputs": [
        {
          "output_type": "execute_result",
          "data": {
            "text/plain": [
              "woe_city*income_by_city                woe_city*income_by_city                  False\n",
              "married*woe_city                       married*woe_city                         False\n",
              "house_ownership*woe_city               house_ownership*woe_city                 False\n",
              "house_ownership*woe_profession         house_ownership*woe_profession           False\n",
              "house_ownership*woe_state              house_ownership*woe_state                False\n",
              "                                                                                ...  \n",
              "age                                    woe_state*woe_city                        True\n",
              "current_house_years*woe_profession     income*current_job_years                  True\n",
              "income*current_job_years               current_house_years*woe_profession        True\n",
              "income*woe_profession                  current_job_years*current_house_years     True\n",
              "current_job_years*current_house_years  income*woe_profession                     True\n",
              "Length: 6084, dtype: bool"
            ]
          },
          "metadata": {
            "tags": []
          },
          "execution_count": 22
        }
      ]
    },
    {
      "cell_type": "code",
      "metadata": {
        "colab": {
          "base_uri": "https://localhost:8080/"
        },
        "id": "gAcCevD1OTDJ",
        "outputId": "803804b4-c554-4523-eb5f-17cb20339640"
      },
      "source": [
        "\"\"\"\n",
        "poly = PolynomialFeatures(degree=2, interaction_only=True)\n",
        "xtrain_poly = poly.fit_transform(xtrain)\n",
        "X_trainval_poly, X_holdouttest_poly, y_trainval_poly, y_holdouttest_poly = train_test_split(xtrain_poly,ytrain,test_size=0.05)\n",
        "public_test_poly = poly.transform(public_test)\"\"\"\n",
        "X_trainval_pt1, X_trainval_pt2, y_trainval_pt1, y_trainval_pt2 = train_test_split(X_trainval, y_trainval, stratify = y_trainval, test_size = 0.5)\n",
        "X_trainval_pt1.shape, y_trainval_pt1.shape"
      ],
      "execution_count": null,
      "outputs": [
        {
          "output_type": "execute_result",
          "data": {
            "text/plain": [
              "((119700, 11), (119700,))"
            ]
          },
          "metadata": {
            "tags": []
          },
          "execution_count": 7
        }
      ]
    },
    {
      "cell_type": "code",
      "metadata": {
        "id": "IvEvkCyw8acH"
      },
      "source": [
        "#sm = SMOTE(random_state=69)\n",
        "#X_new, y_new = sm.fit_sample(X_trainval,y_trainval)\n",
        "\n",
        "#smotomek = combine.SMOTETomek(random_state=69,ratio)\n",
        "#X_new, y_new= smotomek.fit_resample(X_trainval, y_trainval)\n",
        "\n",
        "#X_new, y_new = ADASYN().fit_resample(X_trainval,y_trainval)\n",
        "#X_new, y_new = BorderlineSMOTE().fit_resample(X_trainval,y_trainval) 0.9220853139259075 0.7420274412494525\n",
        "X_new, y_new = SVMSMOTE().fit_resample(X_trainval_pt1,y_trainval_pt1)"
      ],
      "execution_count": null,
      "outputs": []
    },
    {
      "cell_type": "code",
      "metadata": {
        "id": "nbcVuQVCFjFC"
      },
      "source": [
        "#bal_x.shape, X_trainval.shape, X_new.shape\n",
        "sum(y_new)/len(y_new), X_new.shape"
      ],
      "execution_count": null,
      "outputs": []
    },
    {
      "cell_type": "code",
      "metadata": {
        "id": "hQ-o8AkGkomN",
        "colab": {
          "base_uri": "https://localhost:8080/"
        },
        "outputId": "89e6ed95-05df-449d-cd7b-f41ce2f9ad00"
      },
      "source": [
        "n_estimators=150\n",
        "gamma = 5 #0.5,1,3,5,10,20,100]:\n",
        "max_depth = 30\n",
        "min_child_weight = 5\n",
        "subsample = 0.85 # [0.8,0.85,0.9,0.95,1]:\n",
        "maj_to_min = 3*(len(y_trainval)-(sum(y_trainval)))/sum(y_trainval) # 1.0 # /sum(bal_y)/len(bal_y) #\n",
        "colsample_bytree = 1.0\n",
        "model = xgboost.sklearn.XGBClassifier(objective=\"binary:logistic\", verbosity = 1, num_boost_rounds = 3000, booster='dart', reg_alpha=0.5, reg_lambda=0.5, learning_rate=0.01 , seed = 10, colsample_bytree = colsample_bytree, subsample=subsample, n_estimators=n_estimators, scale_pos_weight=maj_to_min, max_depth=max_depth, gamma=gamma, min_child_weight=min_child_weight)\n",
        "model.fit(X_trainval, y_trainval)\n",
        "for threshold in range(1,10):\n",
        "  print(threshold/10, roc_auc_score(y_trainval,((model.predict_proba(X_trainval)[:,1])>threshold/10)*1 ), roc_auc_score(y_holdouttest,((model.predict_proba(X_holdouttest)[:,1])>threshold/10)*1 ))\n",
        "#model.fit(X_new, y_new)\n",
        "#print(roc_auc_score(y_trainval,model.predict(X_trainval)), roc_auc_score(y_holdouttest,model.predict(X_holdouttest)))\n",
        "#print(roc_auc_score(y_new,model.predict(X_new)), roc_auc_score(y_holdouttest,model.predict(X_holdouttest.values)))\n",
        "#0.9369266601255513 0.8595037220843673 public test 0.8680416597704652"
      ],
      "execution_count": 11,
      "outputs": [
        {
          "output_type": "stream",
          "text": [
            "0.1 0.5 0.5\n",
            "0.2 0.892064452213342 0.8911020289008904\n",
            "0.3 0.9057650723491812 0.8890249598598744\n",
            "0.4 0.9280675767072788 0.8722186542110641\n",
            "0.5 0.9462453680329976 0.8547044227120129\n",
            "0.6 0.9544400201948998 0.8417311341410013\n",
            "0.7 0.9568321619352707 0.8374719019121297\n",
            "0.8 0.9005014312877329 0.8341716537731718\n",
            "0.9 0.5 0.5\n"
          ],
          "name": "stdout"
        }
      ]
    },
    {
      "cell_type": "code",
      "metadata": {
        "id": "NX0GkMBnCPnD",
        "colab": {
          "base_uri": "https://localhost:8080/"
        },
        "outputId": "b614d5d7-1db5-4912-9f75-c9efa80b4927"
      },
      "source": [
        "for threshold in range(12,30,2):\n",
        "  print(threshold/100, roc_auc_score(y_trainval,((model.predict_proba(X_trainval)[:,1])>threshold/100)*1 ), roc_auc_score(y_holdouttest,((model.predict_proba(X_holdouttest)[:,1])>threshold/100)*1 ))"
      ],
      "execution_count": 13,
      "outputs": [
        {
          "output_type": "stream",
          "text": [
            "0.12 0.6048301056421883 0.5864705882352941\n",
            "0.14 0.8512769463787306 0.8443891402714931\n",
            "0.16 0.8814168817931547 0.88148737410597\n",
            "0.18 0.8881516903702715 0.8880878703838855\n",
            "0.2 0.892064452213342 0.8911020289008904\n",
            "0.22 0.8939315278584833 0.8924025689680339\n",
            "0.24 0.8962677538889471 0.8932958692161728\n",
            "0.26 0.8990516970383988 0.8910991096190337\n",
            "0.28 0.902135705916534 0.8912844840169318\n"
          ],
          "name": "stdout"
        }
      ]
    },
    {
      "cell_type": "code",
      "metadata": {
        "colab": {
          "base_uri": "https://localhost:8080/"
        },
        "id": "GxyDOjxGUgHn",
        "outputId": "f0847fac-d3e9-4a00-f30f-61de0e23eed5"
      },
      "source": [
        "for threshold in range(22,26,1):\n",
        "  print(threshold/100, roc_auc_score(y_trainval,((model.predict_proba(X_trainval)[:,1])>threshold/100)*1 ), roc_auc_score(y_holdouttest,((model.predict_proba(X_holdouttest)[:,1])>threshold/100)*1 ))"
      ],
      "execution_count": 14,
      "outputs": [
        {
          "output_type": "stream",
          "text": [
            "0.22 0.8939315278584833 0.8924025689680339\n",
            "0.23 0.8950317688636559 0.8933075463435995\n",
            "0.24 0.8962677538889471 0.8932958692161728\n",
            "0.25 0.8975442239728703 0.8918975332068313\n"
          ],
          "name": "stdout"
        }
      ]
    },
    {
      "cell_type": "code",
      "metadata": {
        "colab": {
          "base_uri": "https://localhost:8080/"
        },
        "id": "gMHn7u59VFMN",
        "outputId": "8619fbdd-7d2c-4d0d-cdd9-d041714616d3"
      },
      "source": [
        "for threshold in range(220,240,2):\n",
        "  print(threshold/1000, roc_auc_score(y_trainval,((model.predict_proba(X_trainval)[:,1])>threshold/1000)*1 ), roc_auc_score(y_holdouttest,((model.predict_proba(X_holdouttest)[:,1])>threshold/1000)*1 ))"
      ],
      "execution_count": 15,
      "outputs": [
        {
          "output_type": "stream",
          "text": [
            "0.22 0.8939315278584833 0.8924025689680339\n",
            "0.222 0.8941553864179772 0.8926740621807036\n",
            "0.224 0.8942958933861703 0.8927645599182601\n",
            "0.226 0.894557855530259 0.8930360531309298\n",
            "0.228 0.8948293435704964 0.8930813019997081\n",
            "0.23 0.8950317688636559 0.8933075463435995\n",
            "0.232 0.895200853520295 0.8933527952123778\n",
            "0.234 0.8954866304047554 0.893533790687491\n",
            "0.236 0.8956533335873572 0.8936242884250475\n",
            "0.238 0.8960319879592672 0.8938052839001607\n"
          ],
          "name": "stdout"
        }
      ]
    },
    {
      "cell_type": "code",
      "metadata": {
        "colab": {
          "base_uri": "https://localhost:8080/"
        },
        "id": "qoOz4s35WIhI",
        "outputId": "d77e3c81-74c3-4945-fc85-bb892b50c6e4"
      },
      "source": [
        "for threshold in range(2380,2400,2):\n",
        "  print(threshold/10000, roc_auc_score(y_trainval,((model.predict_proba(X_trainval)[:,1])>threshold/10000)*1 ), roc_auc_score(y_holdouttest,((model.predict_proba(X_holdouttest)[:,1])>threshold/10000)*1 ))"
      ],
      "execution_count": 16,
      "outputs": [
        {
          "output_type": "stream",
          "text": [
            "0.238 0.8960319879592672 0.8938052839001607\n",
            "0.2382 0.8960510397515646 0.8938052839001607\n",
            "0.2384 0.896070091543862 0.8938052839001607\n",
            "0.2386 0.8960891433361593 0.8938052839001607\n",
            "0.2388 0.8961105766024939 0.8938052839001607\n",
            "0.239 0.896141535764977 0.8934827032549992\n",
            "0.2392 0.8961653505053488 0.8934827032549992\n",
            "0.2394 0.8961867837716833 0.8935279521237776\n",
            "0.2396 0.8962082170380178 0.8936184498613341\n",
            "0.2398 0.8962439391485755 0.8932958692161728\n"
          ],
          "name": "stdout"
        }
      ]
    },
    {
      "cell_type": "code",
      "metadata": {
        "colab": {
          "base_uri": "https://localhost:8080/"
        },
        "id": "zxUMhBSxua5R",
        "outputId": "7270ccb4-b21c-44f3-cfb3-8aafabc1ac89"
      },
      "source": [
        "n_estimators=200\n",
        "gamma = 5 #0.5,1,3,5,10,20,100]:\n",
        "max_depth = 30\n",
        "min_child_weight = 5\n",
        "subsample = 0.85 # [0.8,0.85,0.9,0.95,1]:\n",
        "maj_to_min = 3*(len(y_trainval)-(sum(y_trainval)))/sum(y_trainval) # 1.0 # /sum(bal_y)/len(bal_y) #\n",
        "colsample_bytree = 1.0\n",
        "model_3 = xgboost.sklearn.XGBClassifier(objective=\"binary:logistic\", verbosity = 1, num_boost_rounds = 3000, booster='dart', reg_alpha=0.5, reg_lambda=0.5, learning_rate=0.01 , seed = 69, colsample_bytree = colsample_bytree, subsample=subsample, n_estimators=n_estimators, scale_pos_weight=maj_to_min, max_depth=max_depth, gamma=gamma, min_child_weight=min_child_weight)\n",
        "model_3.fit(X_trainval, y_trainval, xgb_model=\"/content/drive/MyDrive/univ.ai/model_best\")\n",
        "for threshold in range(1,10):\n",
        "  print(threshold/10, roc_auc_score(y_trainval,((model_3.predict_proba(X_trainval)[:,1])>threshold/10)*1 ), roc_auc_score(y_holdouttest,((model_3.predict_proba(X_holdouttest)[:,1])>threshold/10)*1 ))"
      ],
      "execution_count": 4,
      "outputs": [
        {
          "output_type": "stream",
          "text": [
            "0.1 0.8947340846090096 0.8916742081447964\n",
            "0.2 0.9106518570734542 0.9042417165377318\n",
            "0.3 0.9313611553006849 0.9201401255291198\n",
            "0.4 0.9453999447498023 0.9341950080280251\n",
            "0.5 0.9528872991226649 0.9427689388410452\n",
            "0.6 0.9559141526239081 0.9409093562983507\n",
            "0.7 0.9569622132570762 0.9124361407093855\n",
            "0.8 0.9532849729364813 0.860251058239673\n",
            "0.9 0.9061600743442008 0.8376689534374544\n"
          ],
          "name": "stdout"
        }
      ]
    },
    {
      "cell_type": "code",
      "metadata": {
        "colab": {
          "base_uri": "https://localhost:8080/"
        },
        "id": "d7GGN1Wy-AHf",
        "outputId": "649a0c81-84b6-4fc7-dbdf-b796ced5e692"
      },
      "source": [
        "for threshold in range(40,60,2):\n",
        "  print(threshold/100, roc_auc_score(y_trainval,((model_3.predict_proba(X_trainval)[:,1])>threshold/100)*1 ), roc_auc_score(y_holdouttest,((model_3.predict_proba(X_holdouttest)[:,1])>threshold/100)*1 ))"
      ],
      "execution_count": 7,
      "outputs": [
        {
          "output_type": "stream",
          "text": [
            "0.4 0.9454571001266945 0.934014012552912\n",
            "0.42 0.9473360831420216 0.9368646912859436\n",
            "0.44 0.949119807195862 0.9385841482995183\n",
            "0.46 0.9505486916181639 0.9399810246679318\n",
            "0.48 0.9518680282347562 0.9414625602101883\n",
            "0.5 0.9528825361745906 0.9425368559334403\n",
            "0.52 0.9537112891395259 0.9432944095752445\n",
            "0.54 0.9544066795583794 0.9437293825718873\n",
            "0.56 0.9550306257561181 0.9430214567216465\n",
            "0.58 0.9555331167779608 0.9428623558604584\n"
          ],
          "name": "stdout"
        }
      ]
    },
    {
      "cell_type": "code",
      "metadata": {
        "id": "LmtF3PLQMCUL"
      },
      "source": [
        "n_estimators=200\n",
        "gamma = 5 #0.5,1,3,5,10,20,100]:\n",
        "max_depth = 30\n",
        "min_child_weight = 5\n",
        "subsample = 0.85 # [0.8,0.85,0.9,0.95,1]:\n",
        "maj_to_min = 3*(len(y_trainval)-(sum(y_trainval)))/sum(y_trainval) # 1.0 # /sum(bal_y)/len(bal_y) #\n",
        "colsample_bytree = 1.0\n",
        "model_3 = xgboost.sklearn.XGBClassifier(objective=\"binary:logistic\", verbosity = 1, num_boost_rounds = 3000, booster='dart', reg_alpha=0.5, reg_lambda=0.5, learning_rate=0.01 , seed = 69, colsample_bytree = colsample_bytree, subsample=subsample, n_estimators=n_estimators, scale_pos_weight=maj_to_min, max_depth=max_depth, gamma=gamma, min_child_weight=min_child_weight)\n",
        "model_3.load_model(\"/content/drive/MyDrive/univ.ai/model_3\")"
      ],
      "execution_count": 5,
      "outputs": []
    },
    {
      "cell_type": "code",
      "metadata": {
        "colab": {
          "base_uri": "https://localhost:8080/"
        },
        "id": "cJzCoklFNueP",
        "outputId": "33080f70-1833-440f-94c1-be2132c08bcb"
      },
      "source": [
        "3/maj_to_min"
      ],
      "execution_count": 9,
      "outputs": [
        {
          "output_type": "execute_result",
          "data": {
            "text/plain": [
              "0.14024976899701838"
            ]
          },
          "metadata": {
            "tags": []
          },
          "execution_count": 9
        }
      ]
    },
    {
      "cell_type": "code",
      "metadata": {
        "colab": {
          "base_uri": "https://localhost:8080/"
        },
        "id": "2YyIF2THM1Iz",
        "outputId": "497c8332-7354-4288-c67e-8e8a8fb04463"
      },
      "source": [
        "roc_auc_score(y_trainval,((model_3.predict_proba(X_trainval)[:,1])>3/maj_to_min)), roc_auc_score(y_holdouttest,((model_3.predict_proba(X_holdouttest)[:,1])>3/maj_to_min ))"
      ],
      "execution_count": 10,
      "outputs": [
        {
          "output_type": "execute_result",
          "data": {
            "text/plain": [
              "(0.8993493812930451, 0.9017647058823529)"
            ]
          },
          "metadata": {
            "tags": []
          },
          "execution_count": 10
        }
      ]
    },
    {
      "cell_type": "code",
      "metadata": {
        "id": "EP415-pb0EP6"
      },
      "source": [
        "y_pred_public = ((model_3.predict_proba(public_test)[:,1])>3/maj_to_min)*1\n",
        "pd.DataFrame({\"risk_flag\" : y_pred_public}, index=public_test.index).to_csv(\"prediction_v19.csv\")"
      ],
      "execution_count": 11,
      "outputs": []
    },
    {
      "cell_type": "code",
      "metadata": {
        "id": "xYBfJvezPxWb"
      },
      "source": [
        "model_3.save_model(\"/content/drive/MyDrive/univ.ai/model_3\")"
      ],
      "execution_count": 6,
      "outputs": []
    },
    {
      "cell_type": "code",
      "metadata": {
        "id": "mHGPf3vCS_kl"
      },
      "source": [
        "model.save_model(\"/content/drive/MyDrive/univ.ai/model_1\")"
      ],
      "execution_count": 12,
      "outputs": []
    },
    {
      "cell_type": "code",
      "metadata": {
        "colab": {
          "base_uri": "https://localhost:8080/"
        },
        "id": "tWmnGsIlPSO8",
        "outputId": "60ff5381-d3aa-41fb-d2ae-4f32222af384"
      },
      "source": [
        "n_estimators=100\n",
        "gamma = 7.5 #0.5,1,3,5,10,20,100]:\n",
        "max_depth = 25\n",
        "min_child_weight = 5\n",
        "subsample = 0.85 # [0.8,0.85,0.9,0.95,1]:\n",
        "maj_to_min = (len(y_trainval)-(sum(y_trainval)))/sum(y_trainval) # 1.0 # /sum(bal_y)/len(bal_y) #\n",
        "colsample_bytree = 1.0\n",
        "model_4 = xgboost.sklearn.XGBClassifier(objective=\"binary:logistic\", verbosity = 1, num_boost_rounds = 2000, booster='dart', reg_alpha=0.5, reg_lambda=0.5, learning_rate=0.01 , seed = 69, colsample_bytree = colsample_bytree, subsample=subsample, n_estimators=n_estimators, scale_pos_weight=maj_to_min, max_depth=max_depth, gamma=gamma, min_child_weight=min_child_weight)\n",
        "model_4.fit(X_trainval, y_trainval)#, xgb_model=\"/content/drive/MyDrive/univ.ai/model_best\")\n",
        "for threshold in range(1,10):\n",
        "  print(threshold/10, roc_auc_score(y_trainval,((model_4.predict_proba(X_trainval)[:,1])>threshold/10)*1 ), roc_auc_score(y_holdouttest,((model_4.predict_proba(X_holdouttest)[:,1])>threshold/10)*1 ))\n",
        "model_4.save_model(\"/content/drive/MyDrive/univ.ai/model_4\")"
      ],
      "execution_count": 14,
      "outputs": [
        {
          "output_type": "stream",
          "text": [
            "0.1 0.5 0.5\n",
            "0.2 0.6145346123436563 0.6053846153846154\n",
            "0.3 0.8981967478590549 0.8930229163625748\n",
            "0.4 0.9274933315475744 0.8703284192088746\n",
            "0.5 0.9509573917392657 0.8453846153846154\n",
            "0.6 0.9319626422394369 0.8398890672894468\n",
            "0.7 0.8319650600106128 0.8200554663552767\n",
            "0.8 0.5 0.5\n",
            "0.9 0.5 0.5\n"
          ],
          "name": "stdout"
        }
      ]
    },
    {
      "cell_type": "code",
      "metadata": {
        "colab": {
          "base_uri": "https://localhost:8080/"
        },
        "id": "uN96ejKd4wml",
        "outputId": "c9fe1fad-b4f9-4de9-e631-3e245f20d1f6"
      },
      "source": [
        "for threshold in range(20,40,1):\n",
        "  print(threshold/100, roc_auc_score(y_trainval,((model_4.predict_proba(X_trainval)[:,1])>threshold/100)*1 ), roc_auc_score(y_holdouttest,((model_4.predict_proba(X_holdouttest)[:,1])>threshold/100)*1 ))"
      ],
      "execution_count": 16,
      "outputs": [
        {
          "output_type": "stream",
          "text": [
            "0.2 0.6145346123436563 0.6053846153846154\n",
            "0.21 0.8005682197052688 0.7894511750109474\n",
            "0.22 0.8620674052411481 0.8573697270471465\n",
            "0.23 0.8799117902016632 0.8791285943657859\n",
            "0.24 0.8861393448088629 0.8858254269449715\n",
            "0.25 0.890018766015413 0.8902598160852431\n",
            "0.26 0.8923740438381741 0.8933250620347395\n",
            "0.27 0.8936790916105433 0.8940432053714786\n",
            "0.28 0.8950603465521019 0.8929674500072982\n",
            "0.29 0.8966392638387457 0.8924011093271055\n",
            "0.3 0.8981967478590549 0.8930229163625748\n",
            "0.31 0.9001328862512741 0.8912961611443585\n",
            "0.32 0.9023405126837307 0.8895183184936506\n",
            "0.33 0.9047981938900902 0.8868632316450151\n",
            "0.34 0.9076511997866199 0.8853568822069771\n",
            "0.35 0.9105947016965621 0.8841161874178952\n",
            "0.36 0.9138763729197824 0.8797401839147571\n",
            "0.37 0.917246158682378 0.8764224200846593\n",
            "0.38 0.9208064623679473 0.8720916654502991\n",
            "0.39 0.9241854641099453 0.8714333673916217\n"
          ],
          "name": "stdout"
        }
      ]
    },
    {
      "cell_type": "code",
      "metadata": {
        "id": "_Fs3jO8JhE0h"
      },
      "source": [
        "y_pred_public = ((model_4.predict_proba(public_test)[:,1])>0.25)*1\n",
        "pd.DataFrame({\"risk_flag\" : y_pred_public}, index=public_test.index).to_csv(\"prediction_v22.csv\")"
      ],
      "execution_count": 18,
      "outputs": []
    },
    {
      "cell_type": "code",
      "metadata": {
        "id": "4lBY8csg4KAE"
      },
      "source": [
        "y_pred_public = ((model_4.predict_proba(public_test)[:,1])>0.3)*1\n",
        "pd.DataFrame({\"risk_flag\" : y_pred_public}, index=public_test.index).to_csv(\"prediction_v20.csv\")"
      ],
      "execution_count": 15,
      "outputs": []
    },
    {
      "cell_type": "code",
      "metadata": {
        "colab": {
          "base_uri": "https://localhost:8080/",
          "height": 431
        },
        "id": "kFG8d6q9_EPH",
        "outputId": "1e846b54-44f7-43ca-dfbf-9fd74cf8ea03"
      },
      "source": [
        "# model.save_model(\"model_1\")\n",
        "model_2 = xgboost.sklearn.XGBClassifier(objective=\"binary:logistic\", verbosity = 1, num_boost_rounds = 3000, booster='gbtree', reg_alpha=0.5, reg_lambda=0.5, learning_rate=0.01 , seed = 69, colsample_bytree = colsample_bytree, subsample=subsample, n_estimators=n_estimators, scale_pos_weight=maj_to_min, max_depth=max_depth, gamma=gamma, min_child_weight=min_child_weight)\n",
        "model_2.fit(X_trainval, y_trainval,xgb_model=\"/content/model_1\")\n",
        "for threshold in range(1,10):\n",
        "  print(threshold/10, roc_auc_score(y_trainval,((model_2.predict_proba(X_trainval)[:,1])>threshold/10)*1 ), roc_auc_score(y_holdouttest,((model_2.predict_proba(X_holdouttest)[:,1])>threshold/10)*1 ))"
      ],
      "execution_count": null,
      "outputs": [
        {
          "output_type": "stream",
          "text": [
            "0.1 0.8940005906055613 0.8879462852138374\n",
            "0.2 0.906979624108138 0.8823792147131806\n"
          ],
          "name": "stdout"
        },
        {
          "output_type": "error",
          "ename": "KeyboardInterrupt",
          "evalue": "ignored",
          "traceback": [
            "\u001b[0;31m---------------------------------------------------------------------------\u001b[0m",
            "\u001b[0;31mKeyboardInterrupt\u001b[0m                         Traceback (most recent call last)",
            "\u001b[0;32m<ipython-input-77-81ae81418f0b>\u001b[0m in \u001b[0;36m<module>\u001b[0;34m()\u001b[0m\n\u001b[1;32m      3\u001b[0m \u001b[0mmodel_2\u001b[0m\u001b[0;34m.\u001b[0m\u001b[0mfit\u001b[0m\u001b[0;34m(\u001b[0m\u001b[0mX_trainval\u001b[0m\u001b[0;34m,\u001b[0m \u001b[0my_trainval\u001b[0m\u001b[0;34m,\u001b[0m\u001b[0mxgb_model\u001b[0m\u001b[0;34m=\u001b[0m\u001b[0;34m\"/content/model_1\"\u001b[0m\u001b[0;34m)\u001b[0m\u001b[0;34m\u001b[0m\u001b[0;34m\u001b[0m\u001b[0m\n\u001b[1;32m      4\u001b[0m \u001b[0;32mfor\u001b[0m \u001b[0mthreshold\u001b[0m \u001b[0;32min\u001b[0m \u001b[0mrange\u001b[0m\u001b[0;34m(\u001b[0m\u001b[0;36m1\u001b[0m\u001b[0;34m,\u001b[0m\u001b[0;36m10\u001b[0m\u001b[0;34m)\u001b[0m\u001b[0;34m:\u001b[0m\u001b[0;34m\u001b[0m\u001b[0;34m\u001b[0m\u001b[0m\n\u001b[0;32m----> 5\u001b[0;31m   \u001b[0mprint\u001b[0m\u001b[0;34m(\u001b[0m\u001b[0mthreshold\u001b[0m\u001b[0;34m/\u001b[0m\u001b[0;36m10\u001b[0m\u001b[0;34m,\u001b[0m \u001b[0mroc_auc_score\u001b[0m\u001b[0;34m(\u001b[0m\u001b[0my_trainval\u001b[0m\u001b[0;34m,\u001b[0m\u001b[0;34m(\u001b[0m\u001b[0;34m(\u001b[0m\u001b[0mmodel_2\u001b[0m\u001b[0;34m.\u001b[0m\u001b[0mpredict_proba\u001b[0m\u001b[0;34m(\u001b[0m\u001b[0mX_trainval\u001b[0m\u001b[0;34m)\u001b[0m\u001b[0;34m[\u001b[0m\u001b[0;34m:\u001b[0m\u001b[0;34m,\u001b[0m\u001b[0;36m1\u001b[0m\u001b[0;34m]\u001b[0m\u001b[0;34m)\u001b[0m\u001b[0;34m>\u001b[0m\u001b[0mthreshold\u001b[0m\u001b[0;34m/\u001b[0m\u001b[0;36m10\u001b[0m\u001b[0;34m)\u001b[0m\u001b[0;34m*\u001b[0m\u001b[0;36m1\u001b[0m \u001b[0;34m)\u001b[0m\u001b[0;34m,\u001b[0m \u001b[0mroc_auc_score\u001b[0m\u001b[0;34m(\u001b[0m\u001b[0my_holdouttest\u001b[0m\u001b[0;34m,\u001b[0m\u001b[0;34m(\u001b[0m\u001b[0;34m(\u001b[0m\u001b[0mmodel_2\u001b[0m\u001b[0;34m.\u001b[0m\u001b[0mpredict_proba\u001b[0m\u001b[0;34m(\u001b[0m\u001b[0mX_holdouttest\u001b[0m\u001b[0;34m)\u001b[0m\u001b[0;34m[\u001b[0m\u001b[0;34m:\u001b[0m\u001b[0;34m,\u001b[0m\u001b[0;36m1\u001b[0m\u001b[0;34m]\u001b[0m\u001b[0;34m)\u001b[0m\u001b[0;34m>\u001b[0m\u001b[0mthreshold\u001b[0m\u001b[0;34m/\u001b[0m\u001b[0;36m10\u001b[0m\u001b[0;34m)\u001b[0m\u001b[0;34m*\u001b[0m\u001b[0;36m1\u001b[0m \u001b[0;34m)\u001b[0m\u001b[0;34m)\u001b[0m\u001b[0;34m\u001b[0m\u001b[0;34m\u001b[0m\u001b[0m\n\u001b[0m",
            "\u001b[0;32m/usr/local/lib/python3.7/dist-packages/xgboost/sklearn.py\u001b[0m in \u001b[0;36mpredict_proba\u001b[0;34m(self, data, ntree_limit, validate_features)\u001b[0m\n\u001b[1;32m    832\u001b[0m         class_probs = self.get_booster().predict(test_dmatrix,\n\u001b[1;32m    833\u001b[0m                                                  \u001b[0mntree_limit\u001b[0m\u001b[0;34m=\u001b[0m\u001b[0mntree_limit\u001b[0m\u001b[0;34m,\u001b[0m\u001b[0;34m\u001b[0m\u001b[0;34m\u001b[0m\u001b[0m\n\u001b[0;32m--> 834\u001b[0;31m                                                  validate_features=validate_features)\n\u001b[0m\u001b[1;32m    835\u001b[0m         \u001b[0;32mif\u001b[0m \u001b[0mself\u001b[0m\u001b[0;34m.\u001b[0m\u001b[0mobjective\u001b[0m \u001b[0;34m==\u001b[0m \u001b[0;34m\"multi:softprob\"\u001b[0m\u001b[0;34m:\u001b[0m\u001b[0;34m\u001b[0m\u001b[0;34m\u001b[0m\u001b[0m\n\u001b[1;32m    836\u001b[0m             \u001b[0;32mreturn\u001b[0m \u001b[0mclass_probs\u001b[0m\u001b[0;34m\u001b[0m\u001b[0;34m\u001b[0m\u001b[0m\n",
            "\u001b[0;32m/usr/local/lib/python3.7/dist-packages/xgboost/core.py\u001b[0m in \u001b[0;36mpredict\u001b[0;34m(self, data, output_margin, ntree_limit, pred_leaf, pred_contribs, approx_contribs, pred_interactions, validate_features)\u001b[0m\n\u001b[1;32m   1290\u001b[0m                                           \u001b[0mctypes\u001b[0m\u001b[0;34m.\u001b[0m\u001b[0mc_uint\u001b[0m\u001b[0;34m(\u001b[0m\u001b[0mntree_limit\u001b[0m\u001b[0;34m)\u001b[0m\u001b[0;34m,\u001b[0m\u001b[0;34m\u001b[0m\u001b[0;34m\u001b[0m\u001b[0m\n\u001b[1;32m   1291\u001b[0m                                           \u001b[0mctypes\u001b[0m\u001b[0;34m.\u001b[0m\u001b[0mbyref\u001b[0m\u001b[0;34m(\u001b[0m\u001b[0mlength\u001b[0m\u001b[0;34m)\u001b[0m\u001b[0;34m,\u001b[0m\u001b[0;34m\u001b[0m\u001b[0;34m\u001b[0m\u001b[0m\n\u001b[0;32m-> 1292\u001b[0;31m                                           ctypes.byref(preds)))\n\u001b[0m\u001b[1;32m   1293\u001b[0m         \u001b[0mpreds\u001b[0m \u001b[0;34m=\u001b[0m \u001b[0mctypes2numpy\u001b[0m\u001b[0;34m(\u001b[0m\u001b[0mpreds\u001b[0m\u001b[0;34m,\u001b[0m \u001b[0mlength\u001b[0m\u001b[0;34m.\u001b[0m\u001b[0mvalue\u001b[0m\u001b[0;34m,\u001b[0m \u001b[0mnp\u001b[0m\u001b[0;34m.\u001b[0m\u001b[0mfloat32\u001b[0m\u001b[0;34m)\u001b[0m\u001b[0;34m\u001b[0m\u001b[0;34m\u001b[0m\u001b[0m\n\u001b[1;32m   1294\u001b[0m         \u001b[0;32mif\u001b[0m \u001b[0mpred_leaf\u001b[0m\u001b[0;34m:\u001b[0m\u001b[0;34m\u001b[0m\u001b[0;34m\u001b[0m\u001b[0m\n",
            "\u001b[0;31mKeyboardInterrupt\u001b[0m: "
          ]
        }
      ]
    },
    {
      "cell_type": "code",
      "metadata": {
        "colab": {
          "base_uri": "https://localhost:8080/"
        },
        "id": "UbTodQb0tgif",
        "outputId": "776432b8-07c5-4400-b5e0-78b51cb4742f"
      },
      "source": [
        "for threshold in range(2,20,2):\n",
        "  print(threshold/100, roc_auc_score(y_trainval,((model_2.predict_proba(X_trainval)[:,1])>threshold/100)*1 ), roc_auc_score(y_holdouttest,((model_2.predict_proba(X_holdouttest)[:,1])>threshold/100)*1 ))"
      ],
      "execution_count": null,
      "outputs": [
        {
          "output_type": "stream",
          "text": [
            "0.02 0.5 0.5\n",
            "0.04 0.5721753336445126 0.5615384615384615\n",
            "0.06 0.8680663383407794 0.8588235294117648\n",
            "0.08 0.8923740438381741 0.8871828930083199\n",
            "0.1 0.8940005906055613 0.8879462852138374\n",
            "0.12 0.8954604341903465 0.8882513501678587\n",
            "0.14 0.8976490088305058 0.8875492628813312\n",
            "0.16 0.900285300589653 0.8863202452196759\n",
            "0.18 0.9034526610590892 0.8833367391621663\n"
          ],
          "name": "stdout"
        }
      ]
    },
    {
      "cell_type": "code",
      "metadata": {
        "id": "4Xp1p5ktamtv"
      },
      "source": [
        "y_pred_public = (lgb_model.predict(public_test) > 0.2)*1\n",
        "pd.DataFrame({\"risk_flag\" : y_pred_public}, index=public_test.index).to_csv(\"prediction_v13.csv\")"
      ],
      "execution_count": null,
      "outputs": []
    },
    {
      "cell_type": "markdown",
      "metadata": {
        "id": "tb_RBGTmn8nL"
      },
      "source": [
        "with woe_location ->  \n",
        "  With job_stability -> 0.9301708598649377 0.8427134724857686  \n",
        "  without job_stability -> 0.9324822597200537 0.8534476718727194  \n",
        "without woe_location ->\n",
        "0.9351826717335341 0.8515457597431032  \n",
        "\n",
        "\n",
        "1000 -> (0.9554997218736595, 0.9137673332360239)"
      ]
    },
    {
      "cell_type": "code",
      "metadata": {
        "colab": {
          "base_uri": "https://localhost:8080/"
        },
        "id": "3yuwhhvamwYL",
        "outputId": "1a0779e9-4e6d-4d08-92a9-6e36e4e0519a"
      },
      "source": [
        "roc_auc_score(y_holdouttest,model.predict(X_holdouttest))"
      ],
      "execution_count": null,
      "outputs": [
        {
          "output_type": "execute_result",
          "data": {
            "text/plain": [
              "0.5751525324770107"
            ]
          },
          "metadata": {
            "tags": []
          },
          "execution_count": 16
        }
      ]
    },
    {
      "cell_type": "code",
      "metadata": {
        "id": "aPpc20Mhl46s"
      },
      "source": [
        "y_pred_public = model.predict(public_test)\n",
        "pd.DataFrame({\"risk_flag\" : y_pred_public}, index=public_test.index).to_csv(\"prediction_v12.csv\")"
      ],
      "execution_count": null,
      "outputs": []
    },
    {
      "cell_type": "code",
      "metadata": {
        "id": "KXERfQuVOTDK"
      },
      "source": [
        "ags_0 = np.random.choice(np.argwhere(y_trainval.values==0)[:,0],size=len((np.argwhere(y_trainval.values==1))))\n",
        "ags_1 = np.argwhere(y_trainval.values==1)[:,0]\n",
        "ags = np.concatenate((ags_0,ags_1))\n",
        "print(ags.shape)\n",
        "X_balanced = xtrain.iloc[ags]\n",
        "y_balanced = ytrain.iloc[ags]"
      ],
      "execution_count": null,
      "outputs": []
    },
    {
      "cell_type": "code",
      "metadata": {
        "colab": {
          "base_uri": "https://localhost:8080/"
        },
        "id": "vsStRWa-P9d3",
        "outputId": "de6a1c65-ff21-46f6-c8fb-51416e8203b2"
      },
      "source": [
        "!nvidia-smi"
      ],
      "execution_count": null,
      "outputs": [
        {
          "output_type": "stream",
          "text": [
            "Mon Apr 12 13:45:36 2021       \n",
            "+-----------------------------------------------------------------------------+\n",
            "| NVIDIA-SMI 460.67       Driver Version: 460.32.03    CUDA Version: 11.2     |\n",
            "|-------------------------------+----------------------+----------------------+\n",
            "| GPU  Name        Persistence-M| Bus-Id        Disp.A | Volatile Uncorr. ECC |\n",
            "| Fan  Temp  Perf  Pwr:Usage/Cap|         Memory-Usage | GPU-Util  Compute M. |\n",
            "|                               |                      |               MIG M. |\n",
            "|===============================+======================+======================|\n",
            "|   0  Tesla K80           Off  | 00000000:00:04.0 Off |                    0 |\n",
            "| N/A   35C    P8    28W / 149W |      0MiB / 11441MiB |      0%      Default |\n",
            "|                               |                      |                  N/A |\n",
            "+-------------------------------+----------------------+----------------------+\n",
            "                                                                               \n",
            "+-----------------------------------------------------------------------------+\n",
            "| Processes:                                                                  |\n",
            "|  GPU   GI   CI        PID   Type   Process name                  GPU Memory |\n",
            "|        ID   ID                                                   Usage      |\n",
            "|=============================================================================|\n",
            "|  No running processes found                                                 |\n",
            "+-----------------------------------------------------------------------------+\n"
          ],
          "name": "stdout"
        }
      ]
    },
    {
      "cell_type": "code",
      "metadata": {
        "colab": {
          "base_uri": "https://localhost:8080/"
        },
        "id": "r4M7Uj42U42B",
        "outputId": "51741559-4e64-4a2e-a848-c744fa6d0bee"
      },
      "source": [
        "import time \n",
        "maj_to_min = 1/(sum(y_trainval.values)/len(y_trainval.values))\n",
        "#xg_train = xgb.DMatrix(X_trainval, y_trainval)\n",
        "xgb = xgboost.sklearn.XGBClassifier(tree_method='gpu_hist', objective=\"binary:logistic\", learning_rate=0.02, seed=69, n_estimators=75, scale_pos_weight=maj_to_min, max_depth=15, gamma=2, colsample_bytree=0.8, subsample=0.8, min_child_weight=5, n_gpus=1)\n",
        "start_time=time.time()\n",
        "xgb.fit(X_trainval, y_trainval)\n",
        "print(time.time()-start_time)"
      ],
      "execution_count": null,
      "outputs": [
        {
          "output_type": "stream",
          "text": [
            "[13:46:50] WARNING: ../include/xgboost/generic_parameters.h:39: \n",
            "n_gpus: \n",
            "\tDeprecated. Single process multi-GPU training is no longer supported.\n",
            "\tPlease switch to distributed training with one process per GPU.\n",
            "\tThis can be done using Dask or Spark.  See documentation for details.\n",
            "[13:46:50] WARNING: ../src/gbm/gbtree.cc:81: DANGER AHEAD: You have manually specified `updater` parameter. The `tree_method` parameter will be ignored. Incorrect sequence of updaters will produce undefined behavior. For common uses, we recommend using `tree_method` parameter instead.\n",
            "[13:46:51] WARNING: ../src/learner.cc:1061: Starting in XGBoost 1.3.0, the default evaluation metric used with the objective 'binary:logistic' was changed from 'error' to 'logloss'. Explicitly set eval_metric if you'd like to restore the old behavior.\n",
            "35.03085017204285\n"
          ],
          "name": "stdout"
        }
      ]
    },
    {
      "cell_type": "code",
      "metadata": {
        "colab": {
          "base_uri": "https://localhost:8080/"
        },
        "id": "RACwN2ZyOTDK",
        "outputId": "841f39f8-1fd9-4b32-ca4b-dc22084f33ec"
      },
      "source": [
        "#DTClassifier= DecisionTreeClassifier(criterion='entropy', random_state=0)\n",
        "#GBC = GradientBoostingClassifier(n_estimators=100)\n",
        "#xgb = xgboost.sklearn.XGBClassifier(objective=\"binary:logistic\", learning_rate=0.05, seed=9616, max_depth=20, gamma=10, n_estimators=500)\n",
        "#rfc = RandomForestClassifier(criterion='entropy')\n",
        "#gmm = GaussianMixture(n_components=11)\n",
        "#model = xgb\n",
        "import csv\n",
        "xgb = xgboost.sklearn.XGBClassifier(objective=\"binary:logistic\", tree_method= 'hist', learning_rate=0.03, seed=691)\n",
        "\n",
        "params = {\n",
        "        'min_child_weight': [1, 5, 10],\n",
        "        'subsample': [0.6, 0.8, 1.0],\n",
        "        'colsample_bytree': [0.6, 0.8, 1.0],\n",
        "        'max_depth': [13, 15, 17],\n",
        "        'alpha' : [0.01,0.03,0.1]\n",
        "        }\n",
        "\n",
        "folds = 3\n",
        "param_comb = 3\n",
        "skf = StratifiedKFold(n_splits=folds, shuffle = True, random_state = 1001)\n",
        "random_search = GridSearchCV(xgb, param_grid=params, scoring='roc_auc', n_jobs=8, cv=skf.split(X_trainval,y_trainval), verbose=4) # n_iter=param_comb, random_state=69, param_distributions=params\n",
        "random_search.fit(X_trainval, y_trainval)\n",
        "pd.DataFrame(random_search.cv_results_).to_csv('/content/drive/MyDrive/univ.ai/results5.csv')\n",
        "print('ROC AUC for {0} : {1}'.format(random_search.best_params_,roc_auc_score(y_holdouttest, random_search.predict(X_holdouttest))))"
      ],
      "execution_count": null,
      "outputs": [
        {
          "output_type": "stream",
          "text": [
            "[Parallel(n_jobs=8)]: Using backend LokyBackend with 8 concurrent workers.\n",
            "[Parallel(n_jobs=8)]: Done   9 tasks      | elapsed:  3.6min\n",
            "[Parallel(n_jobs=8)]: Done  82 tasks      | elapsed: 25.5min\n",
            "[Parallel(n_jobs=8)]: Done 205 tasks      | elapsed: 62.4min\n",
            "[Parallel(n_jobs=8)]: Done 376 tasks      | elapsed: 115.8min\n",
            "[Parallel(n_jobs=8)]: Done 597 tasks      | elapsed: 183.6min\n",
            "[Parallel(n_jobs=8)]: Done 729 out of 729 | elapsed: 223.9min finished\n"
          ],
          "name": "stderr"
        }
      ]
    },
    {
      "cell_type": "code",
      "metadata": {
        "id": "qT9KW5BcXJ5F"
      },
      "source": [
        "#3.6min finished 269.2968921661377"
      ],
      "execution_count": null,
      "outputs": []
    },
    {
      "cell_type": "code",
      "metadata": {
        "colab": {
          "base_uri": "https://localhost:8080/",
          "height": 35
        },
        "id": "B4uQ3IkXAjNo",
        "outputId": "2db6a698-e70f-4fdc-d9c9-d73fe239194b"
      },
      "source": [
        "'ROC AUC for {0} : {1}'.format(random_search.best_params_,roc_auc_score(y_holdouttest, random_search.predict(X_holdouttest)))"
      ],
      "execution_count": null,
      "outputs": [
        {
          "output_type": "execute_result",
          "data": {
            "application/vnd.google.colaboratory.intrinsic+json": {
              "type": "string"
            },
            "text/plain": [
              "\"ROC AUC for {'alpha': 0.03, 'colsample_bytree': 0.6, 'max_depth': 17, 'min_child_weight': 1, 'subsample': 1.0} : 0.7120428786228336\""
            ]
          },
          "metadata": {
            "tags": []
          },
          "execution_count": 35
        }
      ]
    },
    {
      "cell_type": "code",
      "metadata": {
        "colab": {
          "base_uri": "https://localhost:8080/"
        },
        "id": "_qpGJXPoRafp",
        "outputId": "a92eab84-e8f6-480f-9353-07249190ecf2"
      },
      "source": [
        "new_model = xgboost.sklearn.XGBClassifier(objective=\"binary:logistic\", n_estimators=300, scale_pos_weight = 1/(sum(y_trainval.values)/len(y_trainval.values)), learning_rate=0.03, alpha=0.01, max_depth=17, min_child_weight=2, subsample=0.8, gamma=5, colsample_bytree=0.6)\n",
        "new_model.fit(X_balanced, y_balanced)\n",
        "roc_auc_score(y_holdouttest,new_model.predict(X_holdouttest))"
      ],
      "execution_count": null,
      "outputs": [
        {
          "output_type": "execute_result",
          "data": {
            "text/plain": [
              "0.8609713605510564"
            ]
          },
          "metadata": {
            "tags": []
          },
          "execution_count": 64
        }
      ]
    },
    {
      "cell_type": "code",
      "metadata": {
        "colab": {
          "base_uri": "https://localhost:8080/",
          "height": 230
        },
        "id": "KhseoBFUUe9o",
        "outputId": "fdbeca89-76c8-480e-ba7f-2c2e169caacc"
      },
      "source": [
        "0.8430542133383581"
      ],
      "execution_count": null,
      "outputs": [
        {
          "output_type": "execute_result",
          "data": {
            "text/html": [
              "<div>\n",
              "<style scoped>\n",
              "    .dataframe tbody tr th:only-of-type {\n",
              "        vertical-align: middle;\n",
              "    }\n",
              "\n",
              "    .dataframe tbody tr th {\n",
              "        vertical-align: top;\n",
              "    }\n",
              "\n",
              "    .dataframe thead th {\n",
              "        text-align: right;\n",
              "    }\n",
              "</style>\n",
              "<table border=\"1\" class=\"dataframe\">\n",
              "  <thead>\n",
              "    <tr style=\"text-align: right;\">\n",
              "      <th></th>\n",
              "      <th>income</th>\n",
              "      <th>age</th>\n",
              "      <th>experience</th>\n",
              "      <th>current_job_years</th>\n",
              "      <th>current_house_years</th>\n",
              "      <th>woe_state</th>\n",
              "      <th>woe_profession</th>\n",
              "      <th>woe_city</th>\n",
              "    </tr>\n",
              "    <tr>\n",
              "      <th>Id</th>\n",
              "      <th></th>\n",
              "      <th></th>\n",
              "      <th></th>\n",
              "      <th></th>\n",
              "      <th></th>\n",
              "      <th></th>\n",
              "      <th></th>\n",
              "      <th></th>\n",
              "    </tr>\n",
              "  </thead>\n",
              "  <tbody>\n",
              "    <tr>\n",
              "      <th>7146</th>\n",
              "      <td>0.144680</td>\n",
              "      <td>0.178502</td>\n",
              "      <td>1.318694</td>\n",
              "      <td>1.553620</td>\n",
              "      <td>0.001577</td>\n",
              "      <td>-0.237796</td>\n",
              "      <td>0.750491</td>\n",
              "      <td>0.253327</td>\n",
              "    </tr>\n",
              "    <tr>\n",
              "      <th>226637</th>\n",
              "      <td>0.815763</td>\n",
              "      <td>-0.934964</td>\n",
              "      <td>1.485289</td>\n",
              "      <td>1.005231</td>\n",
              "      <td>0.001577</td>\n",
              "      <td>0.342734</td>\n",
              "      <td>0.800730</td>\n",
              "      <td>0.102336</td>\n",
              "    </tr>\n",
              "    <tr>\n",
              "      <th>68293</th>\n",
              "      <td>0.159483</td>\n",
              "      <td>-1.110775</td>\n",
              "      <td>0.652314</td>\n",
              "      <td>0.731036</td>\n",
              "      <td>1.431135</td>\n",
              "      <td>-1.129591</td>\n",
              "      <td>-0.825666</td>\n",
              "      <td>0.514398</td>\n",
              "    </tr>\n",
              "    <tr>\n",
              "      <th>138827</th>\n",
              "      <td>-0.715940</td>\n",
              "      <td>1.116158</td>\n",
              "      <td>0.152528</td>\n",
              "      <td>-0.091547</td>\n",
              "      <td>0.716356</td>\n",
              "      <td>-0.238556</td>\n",
              "      <td>1.737019</td>\n",
              "      <td>0.524524</td>\n",
              "    </tr>\n",
              "    <tr>\n",
              "      <th>247776</th>\n",
              "      <td>0.533503</td>\n",
              "      <td>1.057554</td>\n",
              "      <td>1.318694</td>\n",
              "      <td>-0.639936</td>\n",
              "      <td>-0.713202</td>\n",
              "      <td>-2.034242</td>\n",
              "      <td>-0.150803</td>\n",
              "      <td>-0.100535</td>\n",
              "    </tr>\n",
              "  </tbody>\n",
              "</table>\n",
              "</div>"
            ],
            "text/plain": [
              "          income       age  experience  ...  woe_state  woe_profession  woe_city\n",
              "Id                                      ...                                     \n",
              "7146    0.144680  0.178502    1.318694  ...  -0.237796        0.750491  0.253327\n",
              "226637  0.815763 -0.934964    1.485289  ...   0.342734        0.800730  0.102336\n",
              "68293   0.159483 -1.110775    0.652314  ...  -1.129591       -0.825666  0.514398\n",
              "138827 -0.715940  1.116158    0.152528  ...  -0.238556        1.737019  0.524524\n",
              "247776  0.533503  1.057554    1.318694  ...  -2.034242       -0.150803 -0.100535\n",
              "\n",
              "[5 rows x 8 columns]"
            ]
          },
          "metadata": {
            "tags": []
          },
          "execution_count": 52
        }
      ]
    },
    {
      "cell_type": "code",
      "metadata": {
        "id": "z1iRSEewUPNh"
      },
      "source": [
        "y_pred_public = new_model.predict(public_test)\n",
        "pd.DataFrame({\"risk_flag\" : y_pred_public}, index=public_test.index).to_csv(\"prediction_v8.csv\")"
      ],
      "execution_count": null,
      "outputs": []
    },
    {
      "cell_type": "code",
      "metadata": {
        "id": "4tjPwATKPvQt"
      },
      "source": [
        "print(time.time())"
      ],
      "execution_count": null,
      "outputs": []
    },
    {
      "cell_type": "code",
      "metadata": {
        "colab": {
          "base_uri": "https://localhost:8080/",
          "height": 431
        },
        "id": "8SnUE9K-OTDL",
        "outputId": "0e3642a1-3317-48ed-d9ba-2c5aafccd0df"
      },
      "source": [
        "from sklearn.model_selection import RepeatedStratifiedKFold\n",
        "model = xgboost.sklearn.XGBClassifier(objective=\"binary:logistic\", learning_rate=0.02, seed=69, n_estimators=300)\n",
        "cv = RepeatedStratifiedKFold(n_splits=10, n_repeats=3, random_state=1)\n",
        "scores = cross_val_score(model, X_trainval, y_trainval, scoring='roc_auc', cv=cv, n_jobs=-1)\n",
        "print('Mean ROC AUC: %.5f' % np.mean(scores))"
      ],
      "execution_count": null,
      "outputs": [
        {
          "output_type": "error",
          "ename": "KeyboardInterrupt",
          "evalue": "ignored",
          "traceback": [
            "\u001b[0;31m---------------------------------------------------------------------------\u001b[0m",
            "\u001b[0;31mKeyboardInterrupt\u001b[0m                         Traceback (most recent call last)",
            "\u001b[0;32m<ipython-input-43-018056639c9b>\u001b[0m in \u001b[0;36m<module>\u001b[0;34m()\u001b[0m\n\u001b[1;32m      2\u001b[0m \u001b[0mmodel\u001b[0m \u001b[0;34m=\u001b[0m \u001b[0mxgboost\u001b[0m\u001b[0;34m.\u001b[0m\u001b[0msklearn\u001b[0m\u001b[0;34m.\u001b[0m\u001b[0mXGBClassifier\u001b[0m\u001b[0;34m(\u001b[0m\u001b[0mobjective\u001b[0m\u001b[0;34m=\u001b[0m\u001b[0;34m\"binary:logistic\"\u001b[0m\u001b[0;34m,\u001b[0m \u001b[0mscale_pos_weight\u001b[0m \u001b[0;34m=\u001b[0m \u001b[0;36m1\u001b[0m\u001b[0;34m/\u001b[0m\u001b[0;34m(\u001b[0m\u001b[0msum\u001b[0m\u001b[0;34m(\u001b[0m\u001b[0my_trainval\u001b[0m\u001b[0;34m.\u001b[0m\u001b[0mvalues\u001b[0m\u001b[0;34m)\u001b[0m\u001b[0;34m/\u001b[0m\u001b[0mlen\u001b[0m\u001b[0;34m(\u001b[0m\u001b[0my_trainval\u001b[0m\u001b[0;34m.\u001b[0m\u001b[0mvalues\u001b[0m\u001b[0;34m)\u001b[0m\u001b[0;34m)\u001b[0m\u001b[0;34m,\u001b[0m \u001b[0mlearning_rate\u001b[0m\u001b[0;34m=\u001b[0m\u001b[0;36m0.02\u001b[0m\u001b[0;34m,\u001b[0m \u001b[0mseed\u001b[0m\u001b[0;34m=\u001b[0m\u001b[0;36m69\u001b[0m\u001b[0;34m,\u001b[0m \u001b[0mn_estimators\u001b[0m\u001b[0;34m=\u001b[0m\u001b[0;36m300\u001b[0m\u001b[0;34m)\u001b[0m\u001b[0;34m\u001b[0m\u001b[0;34m\u001b[0m\u001b[0m\n\u001b[1;32m      3\u001b[0m \u001b[0mcv\u001b[0m \u001b[0;34m=\u001b[0m \u001b[0mRepeatedStratifiedKFold\u001b[0m\u001b[0;34m(\u001b[0m\u001b[0mn_splits\u001b[0m\u001b[0;34m=\u001b[0m\u001b[0;36m10\u001b[0m\u001b[0;34m,\u001b[0m \u001b[0mn_repeats\u001b[0m\u001b[0;34m=\u001b[0m\u001b[0;36m3\u001b[0m\u001b[0;34m,\u001b[0m \u001b[0mrandom_state\u001b[0m\u001b[0;34m=\u001b[0m\u001b[0;36m1\u001b[0m\u001b[0;34m)\u001b[0m\u001b[0;34m\u001b[0m\u001b[0;34m\u001b[0m\u001b[0m\n\u001b[0;32m----> 4\u001b[0;31m \u001b[0mscores\u001b[0m \u001b[0;34m=\u001b[0m \u001b[0mcross_val_score\u001b[0m\u001b[0;34m(\u001b[0m\u001b[0mmodel\u001b[0m\u001b[0;34m,\u001b[0m \u001b[0mX_trainval\u001b[0m\u001b[0;34m,\u001b[0m \u001b[0my_trainval\u001b[0m\u001b[0;34m,\u001b[0m \u001b[0mscoring\u001b[0m\u001b[0;34m=\u001b[0m\u001b[0;34m'roc_auc'\u001b[0m\u001b[0;34m,\u001b[0m \u001b[0mcv\u001b[0m\u001b[0;34m=\u001b[0m\u001b[0mcv\u001b[0m\u001b[0;34m,\u001b[0m \u001b[0mn_jobs\u001b[0m\u001b[0;34m=\u001b[0m\u001b[0;34m-\u001b[0m\u001b[0;36m1\u001b[0m\u001b[0;34m)\u001b[0m\u001b[0;34m\u001b[0m\u001b[0;34m\u001b[0m\u001b[0m\n\u001b[0m\u001b[1;32m      5\u001b[0m \u001b[0mprint\u001b[0m\u001b[0;34m(\u001b[0m\u001b[0;34m'Mean ROC AUC: %.5f'\u001b[0m \u001b[0;34m%\u001b[0m \u001b[0mnp\u001b[0m\u001b[0;34m.\u001b[0m\u001b[0mmean\u001b[0m\u001b[0;34m(\u001b[0m\u001b[0mscores\u001b[0m\u001b[0;34m)\u001b[0m\u001b[0;34m)\u001b[0m\u001b[0;34m\u001b[0m\u001b[0;34m\u001b[0m\u001b[0m\n",
            "\u001b[0;32m/usr/local/lib/python3.7/dist-packages/sklearn/model_selection/_validation.py\u001b[0m in \u001b[0;36mcross_val_score\u001b[0;34m(estimator, X, y, groups, scoring, cv, n_jobs, verbose, fit_params, pre_dispatch, error_score)\u001b[0m\n\u001b[1;32m    388\u001b[0m                                 \u001b[0mfit_params\u001b[0m\u001b[0;34m=\u001b[0m\u001b[0mfit_params\u001b[0m\u001b[0;34m,\u001b[0m\u001b[0;34m\u001b[0m\u001b[0;34m\u001b[0m\u001b[0m\n\u001b[1;32m    389\u001b[0m                                 \u001b[0mpre_dispatch\u001b[0m\u001b[0;34m=\u001b[0m\u001b[0mpre_dispatch\u001b[0m\u001b[0;34m,\u001b[0m\u001b[0;34m\u001b[0m\u001b[0;34m\u001b[0m\u001b[0m\n\u001b[0;32m--> 390\u001b[0;31m                                 error_score=error_score)\n\u001b[0m\u001b[1;32m    391\u001b[0m     \u001b[0;32mreturn\u001b[0m \u001b[0mcv_results\u001b[0m\u001b[0;34m[\u001b[0m\u001b[0;34m'test_score'\u001b[0m\u001b[0;34m]\u001b[0m\u001b[0;34m\u001b[0m\u001b[0;34m\u001b[0m\u001b[0m\n\u001b[1;32m    392\u001b[0m \u001b[0;34m\u001b[0m\u001b[0m\n",
            "\u001b[0;32m/usr/local/lib/python3.7/dist-packages/sklearn/model_selection/_validation.py\u001b[0m in \u001b[0;36mcross_validate\u001b[0;34m(estimator, X, y, groups, scoring, cv, n_jobs, verbose, fit_params, pre_dispatch, return_train_score, return_estimator, error_score)\u001b[0m\n\u001b[1;32m    234\u001b[0m             \u001b[0mreturn_times\u001b[0m\u001b[0;34m=\u001b[0m\u001b[0;32mTrue\u001b[0m\u001b[0;34m,\u001b[0m \u001b[0mreturn_estimator\u001b[0m\u001b[0;34m=\u001b[0m\u001b[0mreturn_estimator\u001b[0m\u001b[0;34m,\u001b[0m\u001b[0;34m\u001b[0m\u001b[0;34m\u001b[0m\u001b[0m\n\u001b[1;32m    235\u001b[0m             error_score=error_score)\n\u001b[0;32m--> 236\u001b[0;31m         for train, test in cv.split(X, y, groups))\n\u001b[0m\u001b[1;32m    237\u001b[0m \u001b[0;34m\u001b[0m\u001b[0m\n\u001b[1;32m    238\u001b[0m     \u001b[0mzipped_scores\u001b[0m \u001b[0;34m=\u001b[0m \u001b[0mlist\u001b[0m\u001b[0;34m(\u001b[0m\u001b[0mzip\u001b[0m\u001b[0;34m(\u001b[0m\u001b[0;34m*\u001b[0m\u001b[0mscores\u001b[0m\u001b[0;34m)\u001b[0m\u001b[0;34m)\u001b[0m\u001b[0;34m\u001b[0m\u001b[0;34m\u001b[0m\u001b[0m\n",
            "\u001b[0;32m/usr/local/lib/python3.7/dist-packages/joblib/parallel.py\u001b[0m in \u001b[0;36m__call__\u001b[0;34m(self, iterable)\u001b[0m\n\u001b[1;32m   1052\u001b[0m \u001b[0;34m\u001b[0m\u001b[0m\n\u001b[1;32m   1053\u001b[0m             \u001b[0;32mwith\u001b[0m \u001b[0mself\u001b[0m\u001b[0;34m.\u001b[0m\u001b[0m_backend\u001b[0m\u001b[0;34m.\u001b[0m\u001b[0mretrieval_context\u001b[0m\u001b[0;34m(\u001b[0m\u001b[0;34m)\u001b[0m\u001b[0;34m:\u001b[0m\u001b[0;34m\u001b[0m\u001b[0;34m\u001b[0m\u001b[0m\n\u001b[0;32m-> 1054\u001b[0;31m                 \u001b[0mself\u001b[0m\u001b[0;34m.\u001b[0m\u001b[0mretrieve\u001b[0m\u001b[0;34m(\u001b[0m\u001b[0;34m)\u001b[0m\u001b[0;34m\u001b[0m\u001b[0;34m\u001b[0m\u001b[0m\n\u001b[0m\u001b[1;32m   1055\u001b[0m             \u001b[0;31m# Make sure that we get a last message telling us we are done\u001b[0m\u001b[0;34m\u001b[0m\u001b[0;34m\u001b[0m\u001b[0;34m\u001b[0m\u001b[0m\n\u001b[1;32m   1056\u001b[0m             \u001b[0melapsed_time\u001b[0m \u001b[0;34m=\u001b[0m \u001b[0mtime\u001b[0m\u001b[0;34m.\u001b[0m\u001b[0mtime\u001b[0m\u001b[0;34m(\u001b[0m\u001b[0;34m)\u001b[0m \u001b[0;34m-\u001b[0m \u001b[0mself\u001b[0m\u001b[0;34m.\u001b[0m\u001b[0m_start_time\u001b[0m\u001b[0;34m\u001b[0m\u001b[0;34m\u001b[0m\u001b[0m\n",
            "\u001b[0;32m/usr/local/lib/python3.7/dist-packages/joblib/parallel.py\u001b[0m in \u001b[0;36mretrieve\u001b[0;34m(self)\u001b[0m\n\u001b[1;32m    931\u001b[0m             \u001b[0;32mtry\u001b[0m\u001b[0;34m:\u001b[0m\u001b[0;34m\u001b[0m\u001b[0;34m\u001b[0m\u001b[0m\n\u001b[1;32m    932\u001b[0m                 \u001b[0;32mif\u001b[0m \u001b[0mgetattr\u001b[0m\u001b[0;34m(\u001b[0m\u001b[0mself\u001b[0m\u001b[0;34m.\u001b[0m\u001b[0m_backend\u001b[0m\u001b[0;34m,\u001b[0m \u001b[0;34m'supports_timeout'\u001b[0m\u001b[0;34m,\u001b[0m \u001b[0;32mFalse\u001b[0m\u001b[0;34m)\u001b[0m\u001b[0;34m:\u001b[0m\u001b[0;34m\u001b[0m\u001b[0;34m\u001b[0m\u001b[0m\n\u001b[0;32m--> 933\u001b[0;31m                     \u001b[0mself\u001b[0m\u001b[0;34m.\u001b[0m\u001b[0m_output\u001b[0m\u001b[0;34m.\u001b[0m\u001b[0mextend\u001b[0m\u001b[0;34m(\u001b[0m\u001b[0mjob\u001b[0m\u001b[0;34m.\u001b[0m\u001b[0mget\u001b[0m\u001b[0;34m(\u001b[0m\u001b[0mtimeout\u001b[0m\u001b[0;34m=\u001b[0m\u001b[0mself\u001b[0m\u001b[0;34m.\u001b[0m\u001b[0mtimeout\u001b[0m\u001b[0;34m)\u001b[0m\u001b[0;34m)\u001b[0m\u001b[0;34m\u001b[0m\u001b[0;34m\u001b[0m\u001b[0m\n\u001b[0m\u001b[1;32m    934\u001b[0m                 \u001b[0;32melse\u001b[0m\u001b[0;34m:\u001b[0m\u001b[0;34m\u001b[0m\u001b[0;34m\u001b[0m\u001b[0m\n\u001b[1;32m    935\u001b[0m                     \u001b[0mself\u001b[0m\u001b[0;34m.\u001b[0m\u001b[0m_output\u001b[0m\u001b[0;34m.\u001b[0m\u001b[0mextend\u001b[0m\u001b[0;34m(\u001b[0m\u001b[0mjob\u001b[0m\u001b[0;34m.\u001b[0m\u001b[0mget\u001b[0m\u001b[0;34m(\u001b[0m\u001b[0;34m)\u001b[0m\u001b[0;34m)\u001b[0m\u001b[0;34m\u001b[0m\u001b[0;34m\u001b[0m\u001b[0m\n",
            "\u001b[0;32m/usr/local/lib/python3.7/dist-packages/joblib/_parallel_backends.py\u001b[0m in \u001b[0;36mwrap_future_result\u001b[0;34m(future, timeout)\u001b[0m\n\u001b[1;32m    540\u001b[0m         AsyncResults.get from multiprocessing.\"\"\"\n\u001b[1;32m    541\u001b[0m         \u001b[0;32mtry\u001b[0m\u001b[0;34m:\u001b[0m\u001b[0;34m\u001b[0m\u001b[0;34m\u001b[0m\u001b[0m\n\u001b[0;32m--> 542\u001b[0;31m             \u001b[0;32mreturn\u001b[0m \u001b[0mfuture\u001b[0m\u001b[0;34m.\u001b[0m\u001b[0mresult\u001b[0m\u001b[0;34m(\u001b[0m\u001b[0mtimeout\u001b[0m\u001b[0;34m=\u001b[0m\u001b[0mtimeout\u001b[0m\u001b[0;34m)\u001b[0m\u001b[0;34m\u001b[0m\u001b[0;34m\u001b[0m\u001b[0m\n\u001b[0m\u001b[1;32m    543\u001b[0m         \u001b[0;32mexcept\u001b[0m \u001b[0mCfTimeoutError\u001b[0m \u001b[0;32mas\u001b[0m \u001b[0me\u001b[0m\u001b[0;34m:\u001b[0m\u001b[0;34m\u001b[0m\u001b[0;34m\u001b[0m\u001b[0m\n\u001b[1;32m    544\u001b[0m             \u001b[0;32mraise\u001b[0m \u001b[0mTimeoutError\u001b[0m \u001b[0;32mfrom\u001b[0m \u001b[0me\u001b[0m\u001b[0;34m\u001b[0m\u001b[0;34m\u001b[0m\u001b[0m\n",
            "\u001b[0;32m/usr/lib/python3.7/concurrent/futures/_base.py\u001b[0m in \u001b[0;36mresult\u001b[0;34m(self, timeout)\u001b[0m\n\u001b[1;32m    428\u001b[0m                 \u001b[0;32mreturn\u001b[0m \u001b[0mself\u001b[0m\u001b[0;34m.\u001b[0m\u001b[0m__get_result\u001b[0m\u001b[0;34m(\u001b[0m\u001b[0;34m)\u001b[0m\u001b[0;34m\u001b[0m\u001b[0;34m\u001b[0m\u001b[0m\n\u001b[1;32m    429\u001b[0m \u001b[0;34m\u001b[0m\u001b[0m\n\u001b[0;32m--> 430\u001b[0;31m             \u001b[0mself\u001b[0m\u001b[0;34m.\u001b[0m\u001b[0m_condition\u001b[0m\u001b[0;34m.\u001b[0m\u001b[0mwait\u001b[0m\u001b[0;34m(\u001b[0m\u001b[0mtimeout\u001b[0m\u001b[0;34m)\u001b[0m\u001b[0;34m\u001b[0m\u001b[0;34m\u001b[0m\u001b[0m\n\u001b[0m\u001b[1;32m    431\u001b[0m \u001b[0;34m\u001b[0m\u001b[0m\n\u001b[1;32m    432\u001b[0m             \u001b[0;32mif\u001b[0m \u001b[0mself\u001b[0m\u001b[0;34m.\u001b[0m\u001b[0m_state\u001b[0m \u001b[0;32min\u001b[0m \u001b[0;34m[\u001b[0m\u001b[0mCANCELLED\u001b[0m\u001b[0;34m,\u001b[0m \u001b[0mCANCELLED_AND_NOTIFIED\u001b[0m\u001b[0;34m]\u001b[0m\u001b[0;34m:\u001b[0m\u001b[0;34m\u001b[0m\u001b[0;34m\u001b[0m\u001b[0m\n",
            "\u001b[0;32m/usr/lib/python3.7/threading.py\u001b[0m in \u001b[0;36mwait\u001b[0;34m(self, timeout)\u001b[0m\n\u001b[1;32m    294\u001b[0m         \u001b[0;32mtry\u001b[0m\u001b[0;34m:\u001b[0m    \u001b[0;31m# restore state no matter what (e.g., KeyboardInterrupt)\u001b[0m\u001b[0;34m\u001b[0m\u001b[0;34m\u001b[0m\u001b[0m\n\u001b[1;32m    295\u001b[0m             \u001b[0;32mif\u001b[0m \u001b[0mtimeout\u001b[0m \u001b[0;32mis\u001b[0m \u001b[0;32mNone\u001b[0m\u001b[0;34m:\u001b[0m\u001b[0;34m\u001b[0m\u001b[0;34m\u001b[0m\u001b[0m\n\u001b[0;32m--> 296\u001b[0;31m                 \u001b[0mwaiter\u001b[0m\u001b[0;34m.\u001b[0m\u001b[0macquire\u001b[0m\u001b[0;34m(\u001b[0m\u001b[0;34m)\u001b[0m\u001b[0;34m\u001b[0m\u001b[0;34m\u001b[0m\u001b[0m\n\u001b[0m\u001b[1;32m    297\u001b[0m                 \u001b[0mgotit\u001b[0m \u001b[0;34m=\u001b[0m \u001b[0;32mTrue\u001b[0m\u001b[0;34m\u001b[0m\u001b[0;34m\u001b[0m\u001b[0m\n\u001b[1;32m    298\u001b[0m             \u001b[0;32melse\u001b[0m\u001b[0;34m:\u001b[0m\u001b[0;34m\u001b[0m\u001b[0;34m\u001b[0m\u001b[0m\n",
            "\u001b[0;31mKeyboardInterrupt\u001b[0m: "
          ]
        }
      ]
    },
    {
      "cell_type": "code",
      "metadata": {
        "id": "5jqK5tA1OTDM",
        "outputId": "881d0138-1ce3-46f7-dcff-365b87514901"
      },
      "source": [
        "maj_to_min = 1/(sum(y_trainval.values)/len(y_trainval.values))\n",
        "from sklearn.model_selection import RepeatedStratifiedKFold\n",
        "model1 = xgboost.sklearn.XGBClassifier(objective=\"binary:logistic\", learning_rate=0.02, seed=69, n_estimators=300, scale_pos_weight=maj_to_min)\n",
        "cv = RepeatedStratifiedKFold(n_splits=10, n_repeats=3, random_state=1)\n",
        "scores = cross_val_score(model1, X_trainval, y_trainval, scoring='roc_auc', cv=cv, n_jobs=-1)\n",
        "print('Mean ROC AUC: %.5f' % np.mean(scores))"
      ],
      "execution_count": null,
      "outputs": [
        {
          "output_type": "stream",
          "text": [
            "Mean ROC AUC: 0.78946\n"
          ],
          "name": "stdout"
        }
      ]
    },
    {
      "cell_type": "code",
      "metadata": {
        "id": "epN0RWPtOTDM",
        "outputId": "d057e23c-a8f1-454b-c1d6-c1a82f850b0e"
      },
      "source": [
        "maj_to_min = 1/(sum(y_trainval.values)/len(y_trainval.values))\n",
        "from sklearn.model_selection import RepeatedStratifiedKFold\n",
        "model1 = xgboost.sklearn.XGBClassifier(objective=\"binary:logistic\", learning_rate=0.02, seed=69, n_estimators=500, scale_pos_weight=maj_to_min, max_depth=20, gamma=0.5)\n",
        "cv = RepeatedStratifiedKFold(n_splits=10, n_repeats=3, random_state=1)\n",
        "scores = cross_val_score(model1, X_trainval, y_trainval, scoring='roc_auc', cv=cv, n_jobs=-1)\n",
        "print('Mean ROC AUC: %.5f' % np.mean(scores))"
      ],
      "execution_count": null,
      "outputs": [
        {
          "output_type": "stream",
          "text": [
            "Mean ROC AUC: 0.93542\n"
          ],
          "name": "stdout"
        }
      ]
    },
    {
      "cell_type": "code",
      "metadata": {
        "id": "QA1UzVtkOTDN",
        "outputId": "47261625-52f1-4b41-d4a8-9805fdfa88ad"
      },
      "source": [
        "n_estimators=75\n",
        "for max_depth in range(11,20):\n",
        "    model2 = xgboost.sklearn.XGBClassifier(objective=\"binary:logistic\", learning_rate=0.01, seed=69, n_estimators=n_estimators, scale_pos_weight=maj_to_min, max_depth=max_depth, gamma=0.5)\n",
        "    model2.fit(X_trainval, y_trainval)\n",
        "    y_pred_holdouttest = model2.predict(X_holdouttest)\n",
        "    print(max_depth,roc_auc_score(y_trainval,model2.predict(X_trainval)), roc_auc_score(y_holdouttest,y_pred_holdouttest))"
      ],
      "execution_count": null,
      "outputs": [
        {
          "output_type": "stream",
          "text": [
            "[18:45:04] WARNING: C:/Users/Administrator/workspace/xgboost-win64_release_1.3.0/src/learner.cc:1061: Starting in XGBoost 1.3.0, the default evaluation metric used with the objective 'binary:logistic' was changed from 'error' to 'logloss'. Explicitly set eval_metric if you'd like to restore the old behavior.\n",
            "11 0.8283840547611856 0.8005836740985928\n",
            "[18:45:15] WARNING: C:/Users/Administrator/workspace/xgboost-win64_release_1.3.0/src/learner.cc:1061: Starting in XGBoost 1.3.0, the default evaluation metric used with the objective 'binary:logistic' was changed from 'error' to 'logloss'. Explicitly set eval_metric if you'd like to restore the old behavior.\n",
            "12 0.8646812264785575 0.8274044208377906\n",
            "[18:45:33] WARNING: C:/Users/Administrator/workspace/xgboost-win64_release_1.3.0/src/learner.cc:1061: Starting in XGBoost 1.3.0, the default evaluation metric used with the objective 'binary:logistic' was changed from 'error' to 'logloss'. Explicitly set eval_metric if you'd like to restore the old behavior.\n",
            "13 0.885759227827598 0.8454247163182983\n",
            "[18:45:51] WARNING: C:/Users/Administrator/workspace/xgboost-win64_release_1.3.0/src/learner.cc:1061: Starting in XGBoost 1.3.0, the default evaluation metric used with the objective 'binary:logistic' was changed from 'error' to 'logloss'. Explicitly set eval_metric if you'd like to restore the old behavior.\n",
            "14 0.8988689101733024 0.8541859893570098\n",
            "[18:46:13] WARNING: C:/Users/Administrator/workspace/xgboost-win64_release_1.3.0/src/learner.cc:1061: Starting in XGBoost 1.3.0, the default evaluation metric used with the objective 'binary:logistic' was changed from 'error' to 'logloss'. Explicitly set eval_metric if you'd like to restore the old behavior.\n",
            "15 0.9242237325797087 0.857075760911948\n",
            "[18:46:35] WARNING: C:/Users/Administrator/workspace/xgboost-win64_release_1.3.0/src/learner.cc:1061: Starting in XGBoost 1.3.0, the default evaluation metric used with the objective 'binary:logistic' was changed from 'error' to 'logloss'. Explicitly set eval_metric if you'd like to restore the old behavior.\n",
            "16 0.9271647728252328 0.8537464841325884\n",
            "[18:47:00] WARNING: C:/Users/Administrator/workspace/xgboost-win64_release_1.3.0/src/learner.cc:1061: Starting in XGBoost 1.3.0, the default evaluation metric used with the objective 'binary:logistic' was changed from 'error' to 'logloss'. Explicitly set eval_metric if you'd like to restore the old behavior.\n",
            "17 0.9333928570327243 0.8594835938588083\n",
            "[18:47:29] WARNING: C:/Users/Administrator/workspace/xgboost-win64_release_1.3.0/src/learner.cc:1061: Starting in XGBoost 1.3.0, the default evaluation metric used with the objective 'binary:logistic' was changed from 'error' to 'logloss'. Explicitly set eval_metric if you'd like to restore the old behavior.\n",
            "18 0.939764315755346 0.8586703260906716\n",
            "[18:47:57] WARNING: C:/Users/Administrator/workspace/xgboost-win64_release_1.3.0/src/learner.cc:1061: Starting in XGBoost 1.3.0, the default evaluation metric used with the objective 'binary:logistic' was changed from 'error' to 'logloss'. Explicitly set eval_metric if you'd like to restore the old behavior.\n",
            "19 0.9434864155849543 0.8625469353912788\n"
          ],
          "name": "stdout"
        }
      ]
    },
    {
      "cell_type": "code",
      "metadata": {
        "id": "nZvkduOiOTDN",
        "outputId": "c899d8f0-257a-4e47-d4b0-13efbd573cbc"
      },
      "source": [
        "n_estimators=75\n",
        "gamma = 5\n",
        "max_depth = 13\n",
        "min_child_weight = 5\n",
        "for subsample in [0.8,0.85,0.9,0.95,1]:\n",
        "    model2 = xgboost.sklearn.XGBClassifier(objective=\"binary:logistic\", learning_rate=0.01, seed=69, subsample=subsample, n_estimators=n_estimators, scale_pos_weight=maj_to_min, max_depth=max_depth, gamma=gamma, min_child_weight=min_child_weight)\n",
        "    model2.fit(X_trainval, y_trainval)\n",
        "    y_pred_holdouttest = model2.predict(X_holdouttest)\n",
        "    print(subsample,roc_auc_score(y_trainval,model2.predict(X_trainval)), roc_auc_score(y_holdouttest,y_pred_holdouttest))"
      ],
      "execution_count": null,
      "outputs": [
        {
          "output_type": "stream",
          "text": [
            "[22:44:31] WARNING: C:/Users/Administrator/workspace/xgboost-win64_release_1.3.0/src/learner.cc:1061: Starting in XGBoost 1.3.0, the default evaluation metric used with the objective 'binary:logistic' was changed from 'error' to 'logloss'. Explicitly set eval_metric if you'd like to restore the old behavior.\n",
            "0.8 0.904166161335265 0.8536559208288391\n",
            "[22:44:45] WARNING: C:/Users/Administrator/workspace/xgboost-win64_release_1.3.0/src/learner.cc:1061: Starting in XGBoost 1.3.0, the default evaluation metric used with the objective 'binary:logistic' was changed from 'error' to 'logloss'. Explicitly set eval_metric if you'd like to restore the old behavior.\n",
            "0.85 0.9031696565367839 0.8527129115369744\n",
            "[22:45:03] WARNING: C:/Users/Administrator/workspace/xgboost-win64_release_1.3.0/src/learner.cc:1061: Starting in XGBoost 1.3.0, the default evaluation metric used with the objective 'binary:logistic' was changed from 'error' to 'logloss'. Explicitly set eval_metric if you'd like to restore the old behavior.\n",
            "0.9 0.9041145389186432 0.8518072784994811\n",
            "[22:45:21] WARNING: C:/Users/Administrator/workspace/xgboost-win64_release_1.3.0/src/learner.cc:1061: Starting in XGBoost 1.3.0, the default evaluation metric used with the objective 'binary:logistic' was changed from 'error' to 'logloss'. Explicitly set eval_metric if you'd like to restore the old behavior.\n",
            "0.95 0.8967336183037982 0.8530557500257507\n",
            "[22:45:40] WARNING: C:/Users/Administrator/workspace/xgboost-win64_release_1.3.0/src/learner.cc:1061: Starting in XGBoost 1.3.0, the default evaluation metric used with the objective 'binary:logistic' was changed from 'error' to 'logloss'. Explicitly set eval_metric if you'd like to restore the old behavior.\n",
            "1 0.8822371630624875 0.8437158716433159\n"
          ],
          "name": "stdout"
        }
      ]
    },
    {
      "cell_type": "code",
      "metadata": {
        "id": "EK6bxA2UOTDO",
        "outputId": "25485222-f3f6-4c03-caf8-9fc4e52f8f3f"
      },
      "source": [
        "n_estimators=500\n",
        "gamma = 5 #0.5,1,3,5,10,20,100]:\n",
        "max_depth = 12\n",
        "min_child_weight = 5\n",
        "subsample=0.8 # [0.8,0.85,0.9,0.95,1]:\n",
        "for nrounds in [1000]:\n",
        "    \n",
        "    model2 = xgboost.sklearn.XGBClassifier(objective=\"binary:logistic\",verbosity=1,early_stopping_rounds=15, learning_rate=0.05, seed=69, subsample=subsample, n_estimators=n_estimators, scale_pos_weight=maj_to_min, max_depth=max_depth, gamma=gamma, min_child_weight=min_child_weight)\n",
        "    model2.fit(X_trainval, y_trainval)\n",
        "    y_pred_holdouttest = model2.predict(X_holdouttest)\n",
        "    print(nrounds,roc_auc_score(y_trainval,model2.predict(X_trainval)), roc_auc_score(y_holdouttest,y_pred_holdouttest))"
      ],
      "execution_count": null,
      "outputs": [
        {
          "output_type": "stream",
          "text": [
            "[23:18:57] WARNING: C:/Users/Administrator/workspace/xgboost-win64_release_1.3.0/src/learner.cc:541: \n",
            "Parameters: { early_stopping_rounds } might not be used.\n",
            "\n",
            "  This may not be accurate due to some parameters are only used in language bindings but\n",
            "  passed down to XGBoost core.  Or some parameters are not used but slip through this\n",
            "  verification. Please open an issue if you find above cases.\n",
            "\n",
            "\n",
            "[23:18:57] WARNING: C:/Users/Administrator/workspace/xgboost-win64_release_1.3.0/src/learner.cc:1061: Starting in XGBoost 1.3.0, the default evaluation metric used with the objective 'binary:logistic' was changed from 'error' to 'logloss'. Explicitly set eval_metric if you'd like to restore the old behavior.\n",
            "1000 0.9543444709866139 0.8474600275289463\n"
          ],
          "name": "stdout"
        }
      ]
    },
    {
      "cell_type": "code",
      "metadata": {
        "id": "HRGlY4hoOTDO",
        "outputId": "530d69ed-2f7c-4f99-b24d-149739e0c4ec"
      },
      "source": [
        "print(random_search.best_estimator_)\n",
        "pd.DataFrame(random_search.cv_results_)"
      ],
      "execution_count": null,
      "outputs": [
        {
          "output_type": "stream",
          "text": [
            "XGBClassifier(base_score=0.5, booster='gbtree', colsample_bylevel=1,\n",
            "              colsample_bynode=1, colsample_bytree=0.8, gamma=2, gpu_id=-1,\n",
            "              importance_type='gain', interaction_constraints='',\n",
            "              learning_rate=0.05, max_delta_step=0, max_depth=15,\n",
            "              min_child_weight=5, missing=nan, monotone_constraints='()',\n",
            "              n_estimators=500, n_jobs=8, num_parallel_tree=1,\n",
            "              random_state=6969, reg_alpha=0, reg_lambda=1, scale_pos_weight=1,\n",
            "              seed=6969, subsample=0.8, tree_method='exact',\n",
            "              validate_parameters=1, verbosity=None)\n"
          ],
          "name": "stdout"
        },
        {
          "output_type": "execute_result",
          "data": {
            "text/html": [
              "<div>\n",
              "<style scoped>\n",
              "    .dataframe tbody tr th:only-of-type {\n",
              "        vertical-align: middle;\n",
              "    }\n",
              "\n",
              "    .dataframe tbody tr th {\n",
              "        vertical-align: top;\n",
              "    }\n",
              "\n",
              "    .dataframe thead th {\n",
              "        text-align: right;\n",
              "    }\n",
              "</style>\n",
              "<table border=\"1\" class=\"dataframe\">\n",
              "  <thead>\n",
              "    <tr style=\"text-align: right;\">\n",
              "      <th></th>\n",
              "      <th>mean_fit_time</th>\n",
              "      <th>std_fit_time</th>\n",
              "      <th>mean_score_time</th>\n",
              "      <th>std_score_time</th>\n",
              "      <th>param_subsample</th>\n",
              "      <th>param_min_child_weight</th>\n",
              "      <th>param_max_depth</th>\n",
              "      <th>param_gamma</th>\n",
              "      <th>param_colsample_bytree</th>\n",
              "      <th>params</th>\n",
              "      <th>split0_test_score</th>\n",
              "      <th>split1_test_score</th>\n",
              "      <th>split2_test_score</th>\n",
              "      <th>mean_test_score</th>\n",
              "      <th>std_test_score</th>\n",
              "      <th>rank_test_score</th>\n",
              "    </tr>\n",
              "  </thead>\n",
              "  <tbody>\n",
              "    <tr>\n",
              "      <th>0</th>\n",
              "      <td>12.372567</td>\n",
              "      <td>0.020605</td>\n",
              "      <td>0.088335</td>\n",
              "      <td>0.019154</td>\n",
              "      <td>0.8</td>\n",
              "      <td>5</td>\n",
              "      <td>4</td>\n",
              "      <td>5</td>\n",
              "      <td>1</td>\n",
              "      <td>{'subsample': 0.8, 'min_child_weight': 5, 'max...</td>\n",
              "      <td>0.795587</td>\n",
              "      <td>0.791910</td>\n",
              "      <td>0.791942</td>\n",
              "      <td>0.793147</td>\n",
              "      <td>0.001726</td>\n",
              "      <td>4</td>\n",
              "    </tr>\n",
              "    <tr>\n",
              "      <th>1</th>\n",
              "      <td>55.212570</td>\n",
              "      <td>7.915631</td>\n",
              "      <td>0.113335</td>\n",
              "      <td>0.006130</td>\n",
              "      <td>1</td>\n",
              "      <td>5</td>\n",
              "      <td>15</td>\n",
              "      <td>5</td>\n",
              "      <td>1</td>\n",
              "      <td>{'subsample': 1.0, 'min_child_weight': 5, 'max...</td>\n",
              "      <td>0.906683</td>\n",
              "      <td>0.904897</td>\n",
              "      <td>0.904768</td>\n",
              "      <td>0.905449</td>\n",
              "      <td>0.000874</td>\n",
              "      <td>3</td>\n",
              "    </tr>\n",
              "    <tr>\n",
              "      <th>2</th>\n",
              "      <td>49.670498</td>\n",
              "      <td>2.538399</td>\n",
              "      <td>0.240399</td>\n",
              "      <td>0.054548</td>\n",
              "      <td>0.6</td>\n",
              "      <td>1</td>\n",
              "      <td>10</td>\n",
              "      <td>2</td>\n",
              "      <td>0.6</td>\n",
              "      <td>{'subsample': 0.6, 'min_child_weight': 1, 'max...</td>\n",
              "      <td>0.919388</td>\n",
              "      <td>0.917016</td>\n",
              "      <td>0.916346</td>\n",
              "      <td>0.917583</td>\n",
              "      <td>0.001305</td>\n",
              "      <td>2</td>\n",
              "    </tr>\n",
              "    <tr>\n",
              "      <th>3</th>\n",
              "      <td>15.199532</td>\n",
              "      <td>0.233192</td>\n",
              "      <td>0.103666</td>\n",
              "      <td>0.013890</td>\n",
              "      <td>0.8</td>\n",
              "      <td>10</td>\n",
              "      <td>4</td>\n",
              "      <td>10</td>\n",
              "      <td>0.6</td>\n",
              "      <td>{'subsample': 0.8, 'min_child_weight': 10, 'ma...</td>\n",
              "      <td>0.770463</td>\n",
              "      <td>0.767511</td>\n",
              "      <td>0.767282</td>\n",
              "      <td>0.768418</td>\n",
              "      <td>0.001448</td>\n",
              "      <td>5</td>\n",
              "    </tr>\n",
              "    <tr>\n",
              "      <th>4</th>\n",
              "      <td>54.379435</td>\n",
              "      <td>2.404650</td>\n",
              "      <td>0.324507</td>\n",
              "      <td>0.062538</td>\n",
              "      <td>0.8</td>\n",
              "      <td>5</td>\n",
              "      <td>15</td>\n",
              "      <td>2</td>\n",
              "      <td>0.8</td>\n",
              "      <td>{'subsample': 0.8, 'min_child_weight': 5, 'max...</td>\n",
              "      <td>0.925749</td>\n",
              "      <td>0.923222</td>\n",
              "      <td>0.923464</td>\n",
              "      <td>0.924145</td>\n",
              "      <td>0.001138</td>\n",
              "      <td>1</td>\n",
              "    </tr>\n",
              "  </tbody>\n",
              "</table>\n",
              "</div>"
            ],
            "text/plain": [
              "   mean_fit_time  std_fit_time  mean_score_time  std_score_time  \\\n",
              "0      12.372567      0.020605         0.088335        0.019154   \n",
              "1      55.212570      7.915631         0.113335        0.006130   \n",
              "2      49.670498      2.538399         0.240399        0.054548   \n",
              "3      15.199532      0.233192         0.103666        0.013890   \n",
              "4      54.379435      2.404650         0.324507        0.062538   \n",
              "\n",
              "  param_subsample param_min_child_weight param_max_depth param_gamma  \\\n",
              "0             0.8                      5               4           5   \n",
              "1               1                      5              15           5   \n",
              "2             0.6                      1              10           2   \n",
              "3             0.8                     10               4          10   \n",
              "4             0.8                      5              15           2   \n",
              "\n",
              "  param_colsample_bytree                                             params  \\\n",
              "0                      1  {'subsample': 0.8, 'min_child_weight': 5, 'max...   \n",
              "1                      1  {'subsample': 1.0, 'min_child_weight': 5, 'max...   \n",
              "2                    0.6  {'subsample': 0.6, 'min_child_weight': 1, 'max...   \n",
              "3                    0.6  {'subsample': 0.8, 'min_child_weight': 10, 'ma...   \n",
              "4                    0.8  {'subsample': 0.8, 'min_child_weight': 5, 'max...   \n",
              "\n",
              "   split0_test_score  split1_test_score  split2_test_score  mean_test_score  \\\n",
              "0           0.795587           0.791910           0.791942         0.793147   \n",
              "1           0.906683           0.904897           0.904768         0.905449   \n",
              "2           0.919388           0.917016           0.916346         0.917583   \n",
              "3           0.770463           0.767511           0.767282         0.768418   \n",
              "4           0.925749           0.923222           0.923464         0.924145   \n",
              "\n",
              "   std_test_score  rank_test_score  \n",
              "0        0.001726                4  \n",
              "1        0.000874                3  \n",
              "2        0.001305                2  \n",
              "3        0.001448                5  \n",
              "4        0.001138                1  "
            ]
          },
          "metadata": {
            "tags": []
          },
          "execution_count": 53
        }
      ]
    },
    {
      "cell_type": "code",
      "metadata": {
        "id": "MM_ZJx7WOTDP",
        "outputId": "40af4f46-8c39-49c2-ace1-8de9d7235b13"
      },
      "source": [
        "print(random_search.best_estimator_)\n",
        "pd.DataFrame(random_search.cv_results_).to_csv(\"results1.csv\")"
      ],
      "execution_count": null,
      "outputs": [
        {
          "output_type": "stream",
          "text": [
            "XGBClassifier(base_score=0.5, booster='gbtree', colsample_bylevel=1,\n",
            "              colsample_bynode=1, colsample_bytree=0.8, gamma=0.5, gpu_id=-1,\n",
            "              importance_type='gain', interaction_constraints='',\n",
            "              learning_rate=0.05, max_delta_step=0, max_depth=20,\n",
            "              min_child_weight=1, missing=nan, monotone_constraints='()',\n",
            "              n_estimators=500, n_jobs=8, num_parallel_tree=1,\n",
            "              random_state=6969, reg_alpha=0, reg_lambda=1, scale_pos_weight=1,\n",
            "              seed=6969, subsample=0.8, tree_method='exact',\n",
            "              validate_parameters=1, verbosity=None)\n"
          ],
          "name": "stdout"
        }
      ]
    },
    {
      "cell_type": "code",
      "metadata": {
        "id": "so1YmEWyOTDP"
      },
      "source": [
        "y_pred_public = model1.predict(public_test)\n",
        "pd.DataFrame({\"risk_flag\" : y_pred_public}, index=public_test.index).to_csv(\"prediction_v6.csv\")"
      ],
      "execution_count": null,
      "outputs": []
    },
    {
      "cell_type": "code",
      "metadata": {
        "colab": {
          "base_uri": "https://localhost:8080/",
          "height": 280
        },
        "id": "G64c2BFrOTDQ",
        "outputId": "c8ca92f1-66fd-4b28-91fd-27aaa9c0548d"
      },
      "source": [
        ""
      ],
      "execution_count": null,
      "outputs": [
        {
          "output_type": "error",
          "ename": "NameError",
          "evalue": "ignored",
          "traceback": [
            "\u001b[0;31m---------------------------------------------------------------------------\u001b[0m",
            "\u001b[0;31mNameError\u001b[0m                                 Traceback (most recent call last)",
            "\u001b[0;32m<ipython-input-1-4629f3a623cb>\u001b[0m in \u001b[0;36m<module>\u001b[0;34m()\u001b[0m\n\u001b[1;32m      1\u001b[0m \u001b[0;32mimport\u001b[0m \u001b[0mtime\u001b[0m\u001b[0;34m\u001b[0m\u001b[0;34m\u001b[0m\u001b[0m\n\u001b[1;32m      2\u001b[0m \u001b[0;32mimport\u001b[0m \u001b[0mxgboost\u001b[0m\u001b[0;34m\u001b[0m\u001b[0;34m\u001b[0m\u001b[0m\n\u001b[0;32m----> 3\u001b[0;31m \u001b[0mmaj_to_min\u001b[0m \u001b[0;34m=\u001b[0m \u001b[0;36m1\u001b[0m\u001b[0;34m/\u001b[0m\u001b[0;34m(\u001b[0m\u001b[0msum\u001b[0m\u001b[0;34m(\u001b[0m\u001b[0my_trainval\u001b[0m\u001b[0;34m.\u001b[0m\u001b[0mvalues\u001b[0m\u001b[0;34m)\u001b[0m\u001b[0;34m/\u001b[0m\u001b[0mlen\u001b[0m\u001b[0;34m(\u001b[0m\u001b[0my_trainval\u001b[0m\u001b[0;34m.\u001b[0m\u001b[0mvalues\u001b[0m\u001b[0;34m)\u001b[0m\u001b[0;34m)\u001b[0m\u001b[0;34m\u001b[0m\u001b[0;34m\u001b[0m\u001b[0m\n\u001b[0m\u001b[1;32m      4\u001b[0m \u001b[0;31m#xg_train = xgb.DMatrix(X_trainval, y_trainval)\u001b[0m\u001b[0;34m\u001b[0m\u001b[0;34m\u001b[0m\u001b[0;34m\u001b[0m\u001b[0m\n\u001b[1;32m      5\u001b[0m \u001b[0mxgb\u001b[0m \u001b[0;34m=\u001b[0m \u001b[0mxgboost\u001b[0m\u001b[0;34m.\u001b[0m\u001b[0msklearn\u001b[0m\u001b[0;34m.\u001b[0m\u001b[0mXGBClassifier\u001b[0m\u001b[0;34m(\u001b[0m\u001b[0mupdater\u001b[0m\u001b[0;34m=\u001b[0m\u001b[0;34m'grow_gpu'\u001b[0m\u001b[0;34m,\u001b[0m \u001b[0mtree_method\u001b[0m\u001b[0;34m=\u001b[0m\u001b[0;34m'gpu_hist'\u001b[0m\u001b[0;34m,\u001b[0m \u001b[0mobjective\u001b[0m\u001b[0;34m=\u001b[0m\u001b[0;34m\"binary:logistic\"\u001b[0m\u001b[0;34m,\u001b[0m \u001b[0mlearning_rate\u001b[0m\u001b[0;34m=\u001b[0m\u001b[0;36m0.02\u001b[0m\u001b[0;34m,\u001b[0m \u001b[0mseed\u001b[0m\u001b[0;34m=\u001b[0m\u001b[0;36m69\u001b[0m\u001b[0;34m,\u001b[0m \u001b[0mn_estimators\u001b[0m\u001b[0;34m=\u001b[0m\u001b[0;36m75\u001b[0m\u001b[0;34m,\u001b[0m \u001b[0mscale_pos_weight\u001b[0m\u001b[0;34m=\u001b[0m\u001b[0mmaj_to_min\u001b[0m\u001b[0;34m,\u001b[0m \u001b[0mmax_depth\u001b[0m\u001b[0;34m=\u001b[0m\u001b[0;36m15\u001b[0m\u001b[0;34m,\u001b[0m \u001b[0mgamma\u001b[0m\u001b[0;34m=\u001b[0m\u001b[0;36m2\u001b[0m\u001b[0;34m,\u001b[0m \u001b[0mcolsample_bytree\u001b[0m\u001b[0;34m=\u001b[0m\u001b[0;36m0.8\u001b[0m\u001b[0;34m,\u001b[0m \u001b[0msubsample\u001b[0m\u001b[0;34m=\u001b[0m\u001b[0;36m0.8\u001b[0m\u001b[0;34m,\u001b[0m \u001b[0mmin_child_weight\u001b[0m\u001b[0;34m=\u001b[0m\u001b[0;36m5\u001b[0m\u001b[0;34m,\u001b[0m \u001b[0mn_gpus\u001b[0m\u001b[0;34m=\u001b[0m\u001b[0;36m1\u001b[0m\u001b[0;34m)\u001b[0m\u001b[0;34m\u001b[0m\u001b[0;34m\u001b[0m\u001b[0m\n",
            "\u001b[0;31mNameError\u001b[0m: name 'y_trainval' is not defined"
          ]
        }
      ]
    },
    {
      "cell_type": "code",
      "metadata": {
        "id": "6XPkfobITJ3K"
      },
      "source": [
        "12.661563873291016"
      ],
      "execution_count": null,
      "outputs": []
    },
    {
      "cell_type": "code",
      "metadata": {
        "id": "5YccuNnsT8UO"
      },
      "source": [
        ""
      ],
      "execution_count": null,
      "outputs": []
    }
  ]
}